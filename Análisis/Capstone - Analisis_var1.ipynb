{
 "cells": [
  {
   "cell_type": "code",
   "execution_count": 1,
   "metadata": {},
   "outputs": [
    {
     "name": "stderr",
     "output_type": "stream",
     "text": [
      "/var/folders/82/981937551rd3qhsg1c05yn4c0000gn/T/ipykernel_1419/920052441.py:1: DeprecationWarning: \n",
      "Pyarrow will become a required dependency of pandas in the next major release of pandas (pandas 3.0),\n",
      "(to allow more performant data types, such as the Arrow string type, and better interoperability with other libraries)\n",
      "but was not found to be installed on your system.\n",
      "If this would cause problems for you,\n",
      "please provide us feedback at https://github.com/pandas-dev/pandas/issues/54466\n",
      "        \n",
      "  import pandas as pd\n"
     ]
    }
   ],
   "source": [
    "import pandas as pd\n",
    "import numpy as np\n",
    "import matplotlib.pyplot as plt\n",
    "import matplotlib.ticker as mtick\n",
    "import seaborn as sns\n",
    "\n",
    "from scipy import stats"
   ]
  },
  {
   "cell_type": "code",
   "execution_count": 2,
   "metadata": {},
   "outputs": [],
   "source": [
    "# definimos función test de normalidad\n",
    "def normality_test(data):\n",
    "    alpha = 0.05\n",
    "    k2, p = stats.normaltest(data)\n",
    "    if p > alpha:\n",
    "        print(\"Distribución Normal\")\n",
    "    else:\n",
    "        print(\"Distibución NO Normal\")"
   ]
  },
  {
   "cell_type": "code",
   "execution_count": 3,
   "metadata": {},
   "outputs": [],
   "source": [
    "# Load the data\n",
    "df_resultado = pd.read_csv('../Data/df_resultado_var1(vec).csv')\n",
    "df_com_up = pd.read_csv('../Data/df_com_up_var1.csv')\n",
    "df_com_down = pd.read_csv('../Data/df_com_down_var1.csv')\n",
    "df_estadisticas_up = pd.read_csv('../Data/df_estadisticas_up.csv', index_col=0)\n",
    "df_estadisticas_down = pd.read_csv('../Data/df_estadisticas_down.csv', index_col=0)\n",
    "df_estadisticas = pd.read_csv('../Data/df_estadisticas.csv', index_col=0)"
   ]
  },
  {
   "cell_type": "code",
   "execution_count": 4,
   "metadata": {},
   "outputs": [
    {
     "data": {
      "text/html": [
       "<div>\n",
       "<style scoped>\n",
       "    .dataframe tbody tr th:only-of-type {\n",
       "        vertical-align: middle;\n",
       "    }\n",
       "\n",
       "    .dataframe tbody tr th {\n",
       "        vertical-align: top;\n",
       "    }\n",
       "\n",
       "    .dataframe thead th {\n",
       "        text-align: right;\n",
       "    }\n",
       "</style>\n",
       "<table border=\"1\" class=\"dataframe\">\n",
       "  <thead>\n",
       "    <tr style=\"text-align: right;\">\n",
       "      <th></th>\n",
       "      <th>prediction</th>\n",
       "      <th>year_2023</th>\n",
       "      <th>year_2024</th>\n",
       "      <th>month_3</th>\n",
       "      <th>month_5</th>\n",
       "      <th>month_6</th>\n",
       "      <th>month_7</th>\n",
       "      <th>month_8</th>\n",
       "      <th>month_9</th>\n",
       "      <th>month_10</th>\n",
       "      <th>...</th>\n",
       "      <th>CAT 797-F</th>\n",
       "      <th>CAT 798-AC</th>\n",
       "      <th>KOM-CHQ</th>\n",
       "      <th>KOM.960E5</th>\n",
       "      <th>Kom.930E-4</th>\n",
       "      <th>Kom.930E-4SE</th>\n",
       "      <th>Kom.930ER-MT</th>\n",
       "      <th>Kom.980E5</th>\n",
       "      <th>Komatsu AHS</th>\n",
       "      <th>status</th>\n",
       "    </tr>\n",
       "  </thead>\n",
       "  <tbody>\n",
       "    <tr>\n",
       "      <th>0</th>\n",
       "      <td>125045.860483</td>\n",
       "      <td>0.0</td>\n",
       "      <td>0.0</td>\n",
       "      <td>0.0</td>\n",
       "      <td>0.0</td>\n",
       "      <td>0.0</td>\n",
       "      <td>0.0</td>\n",
       "      <td>0.0</td>\n",
       "      <td>0.0</td>\n",
       "      <td>0.0</td>\n",
       "      <td>...</td>\n",
       "      <td>-3.276360</td>\n",
       "      <td>-0.21334</td>\n",
       "      <td>-0.575556</td>\n",
       "      <td>2.735792</td>\n",
       "      <td>-1.756724</td>\n",
       "      <td>0.476865</td>\n",
       "      <td>-0.035749</td>\n",
       "      <td>-2.98167</td>\n",
       "      <td>-0.101592</td>\n",
       "      <td>no_cumple</td>\n",
       "    </tr>\n",
       "    <tr>\n",
       "      <th>1</th>\n",
       "      <td>133832.488037</td>\n",
       "      <td>0.0</td>\n",
       "      <td>0.0</td>\n",
       "      <td>0.0</td>\n",
       "      <td>0.0</td>\n",
       "      <td>0.0</td>\n",
       "      <td>0.0</td>\n",
       "      <td>0.0</td>\n",
       "      <td>0.0</td>\n",
       "      <td>0.0</td>\n",
       "      <td>...</td>\n",
       "      <td>-3.276360</td>\n",
       "      <td>-0.21334</td>\n",
       "      <td>-0.575556</td>\n",
       "      <td>2.735792</td>\n",
       "      <td>0.191462</td>\n",
       "      <td>0.433466</td>\n",
       "      <td>-0.035749</td>\n",
       "      <td>-2.98167</td>\n",
       "      <td>-0.101592</td>\n",
       "      <td>no_cumple</td>\n",
       "    </tr>\n",
       "    <tr>\n",
       "      <th>2</th>\n",
       "      <td>142875.385561</td>\n",
       "      <td>0.0</td>\n",
       "      <td>0.0</td>\n",
       "      <td>0.0</td>\n",
       "      <td>0.0</td>\n",
       "      <td>0.0</td>\n",
       "      <td>0.0</td>\n",
       "      <td>0.0</td>\n",
       "      <td>0.0</td>\n",
       "      <td>0.0</td>\n",
       "      <td>...</td>\n",
       "      <td>-3.246214</td>\n",
       "      <td>-0.21334</td>\n",
       "      <td>-0.575556</td>\n",
       "      <td>2.735792</td>\n",
       "      <td>0.191462</td>\n",
       "      <td>0.607062</td>\n",
       "      <td>-0.035749</td>\n",
       "      <td>-2.98167</td>\n",
       "      <td>-0.101592</td>\n",
       "      <td>cumple</td>\n",
       "    </tr>\n",
       "    <tr>\n",
       "      <th>3</th>\n",
       "      <td>142712.362782</td>\n",
       "      <td>0.0</td>\n",
       "      <td>0.0</td>\n",
       "      <td>0.0</td>\n",
       "      <td>0.0</td>\n",
       "      <td>0.0</td>\n",
       "      <td>0.0</td>\n",
       "      <td>0.0</td>\n",
       "      <td>0.0</td>\n",
       "      <td>0.0</td>\n",
       "      <td>...</td>\n",
       "      <td>-2.914614</td>\n",
       "      <td>-0.21334</td>\n",
       "      <td>-0.575556</td>\n",
       "      <td>2.735792</td>\n",
       "      <td>-1.756724</td>\n",
       "      <td>0.520264</td>\n",
       "      <td>-0.035749</td>\n",
       "      <td>-2.98167</td>\n",
       "      <td>-0.101592</td>\n",
       "      <td>cumple</td>\n",
       "    </tr>\n",
       "    <tr>\n",
       "      <th>4</th>\n",
       "      <td>144366.298793</td>\n",
       "      <td>0.0</td>\n",
       "      <td>0.0</td>\n",
       "      <td>0.0</td>\n",
       "      <td>0.0</td>\n",
       "      <td>0.0</td>\n",
       "      <td>0.0</td>\n",
       "      <td>0.0</td>\n",
       "      <td>0.0</td>\n",
       "      <td>0.0</td>\n",
       "      <td>...</td>\n",
       "      <td>-2.914614</td>\n",
       "      <td>-0.21334</td>\n",
       "      <td>-0.575556</td>\n",
       "      <td>2.735792</td>\n",
       "      <td>0.191462</td>\n",
       "      <td>0.520264</td>\n",
       "      <td>-0.035749</td>\n",
       "      <td>-2.98167</td>\n",
       "      <td>-0.101592</td>\n",
       "      <td>cumple</td>\n",
       "    </tr>\n",
       "  </tbody>\n",
       "</table>\n",
       "<p>5 rows × 66 columns</p>\n",
       "</div>"
      ],
      "text/plain": [
       "      prediction  year_2023  year_2024  month_3  month_5  month_6  month_7  \\\n",
       "0  125045.860483        0.0        0.0      0.0      0.0      0.0      0.0   \n",
       "1  133832.488037        0.0        0.0      0.0      0.0      0.0      0.0   \n",
       "2  142875.385561        0.0        0.0      0.0      0.0      0.0      0.0   \n",
       "3  142712.362782        0.0        0.0      0.0      0.0      0.0      0.0   \n",
       "4  144366.298793        0.0        0.0      0.0      0.0      0.0      0.0   \n",
       "\n",
       "   month_8  month_9  month_10  ...  CAT 797-F  CAT 798-AC   KOM-CHQ  \\\n",
       "0      0.0      0.0       0.0  ...  -3.276360    -0.21334 -0.575556   \n",
       "1      0.0      0.0       0.0  ...  -3.276360    -0.21334 -0.575556   \n",
       "2      0.0      0.0       0.0  ...  -3.246214    -0.21334 -0.575556   \n",
       "3      0.0      0.0       0.0  ...  -2.914614    -0.21334 -0.575556   \n",
       "4      0.0      0.0       0.0  ...  -2.914614    -0.21334 -0.575556   \n",
       "\n",
       "   KOM.960E5  Kom.930E-4  Kom.930E-4SE  Kom.930ER-MT  Kom.980E5  Komatsu AHS  \\\n",
       "0   2.735792   -1.756724      0.476865     -0.035749   -2.98167    -0.101592   \n",
       "1   2.735792    0.191462      0.433466     -0.035749   -2.98167    -0.101592   \n",
       "2   2.735792    0.191462      0.607062     -0.035749   -2.98167    -0.101592   \n",
       "3   2.735792   -1.756724      0.520264     -0.035749   -2.98167    -0.101592   \n",
       "4   2.735792    0.191462      0.520264     -0.035749   -2.98167    -0.101592   \n",
       "\n",
       "      status  \n",
       "0  no_cumple  \n",
       "1  no_cumple  \n",
       "2     cumple  \n",
       "3     cumple  \n",
       "4     cumple  \n",
       "\n",
       "[5 rows x 66 columns]"
      ]
     },
     "execution_count": 4,
     "metadata": {},
     "output_type": "execute_result"
    }
   ],
   "source": [
    "df_resultado.head()"
   ]
  },
  {
   "cell_type": "code",
   "execution_count": 5,
   "metadata": {},
   "outputs": [
    {
     "name": "stdout",
     "output_type": "stream",
     "text": [
      "Index(['payload', 'year_2023', 'year_2024', 'month_3', 'month_5', 'month_6',\n",
      "       'month_7', 'month_8', 'month_9', 'month_10', 'month_11', 'day_2',\n",
      "       'day_3', 'day_4', 'day_5', 'day_6', 'day_10', 'day_11', 'day_13',\n",
      "       'day_15', 'day_16', 'day_17', 'day_20', 'day_21', 'day_22', 'day_23',\n",
      "       'day_24', 'day_25', 'day_26', 'day_27', 'day_28', 'day_30', 'day_31',\n",
      "       'shift_B', 'crew_E2', 'crew_E3', 'crew_E4', 'efectivo', 'mantencion',\n",
      "       'mecanica', 'electrica', 'mant_excl', 'mec_excl', 'demora', 'r_noprg',\n",
      "       'waiting', 'queued', 'distance_down_level', 'distance_up',\n",
      "       'distance_up_level', 'expected_time', 'lift_down', 'lift_down_level',\n",
      "       'lift_up', 'lift_up_level', 'travel_time', 'CAT 797-F', 'CAT 798-AC',\n",
      "       'KOM-CHQ', 'KOM.960E5', 'Kom.930E-4', 'Kom.930E-4SE', 'Kom.930ER-MT',\n",
      "       'Kom.980E5', 'Komatsu AHS', 'truck_avail', 'payload_validation'],\n",
      "      dtype='object')\n"
     ]
    }
   ],
   "source": [
    "print(df_com_up.columns)"
   ]
  },
  {
   "cell_type": "code",
   "execution_count": 6,
   "metadata": {},
   "outputs": [
    {
     "name": "stdout",
     "output_type": "stream",
     "text": [
      "Index(['payload', 'year_2023', 'year_2024', 'month_3', 'month_5', 'month_6',\n",
      "       'month_7', 'month_8', 'month_9', 'month_10', 'month_11', 'day_2',\n",
      "       'day_3', 'day_4', 'day_5', 'day_6', 'day_10', 'day_11', 'day_13',\n",
      "       'day_15', 'day_16', 'day_17', 'day_20', 'day_21', 'day_22', 'day_23',\n",
      "       'day_24', 'day_25', 'day_26', 'day_27', 'day_28', 'day_30', 'day_31',\n",
      "       'shift_B', 'crew_E2', 'crew_E3', 'crew_E4', 'efectivo', 'mantencion',\n",
      "       'mecanica', 'electrica', 'mant_excl', 'mec_excl', 'demora', 'r_noprg',\n",
      "       'waiting', 'queued', 'distance_down_level', 'distance_up',\n",
      "       'distance_up_level', 'expected_time', 'lift_down', 'lift_down_level',\n",
      "       'lift_up', 'lift_up_level', 'travel_time', 'CAT 797-F', 'CAT 798-AC',\n",
      "       'KOM-CHQ', 'KOM.960E5', 'Kom.930E-4', 'Kom.930E-4SE', 'Kom.930ER-MT',\n",
      "       'Kom.980E5', 'Komatsu AHS', 'truck_avail', 'payload_validation'],\n",
      "      dtype='object')\n"
     ]
    }
   ],
   "source": [
    "print(df_com_down.columns)"
   ]
  },
  {
   "cell_type": "code",
   "execution_count": 7,
   "metadata": {},
   "outputs": [
    {
     "name": "stdout",
     "output_type": "stream",
     "text": [
      "Index(['total', 'efectivo', 'mantencion', 'mecanica', 'electrica', 'mant_excl',\n",
      "       'mec_excl', 'elec_excl', 'som_excl', 'demora', 'r_prog', 'r_noprg',\n",
      "       'waiting', 'queued', 'payload', 'distance', 'distance_down',\n",
      "       'distance_down_level', 'distance_up', 'distance_up_level',\n",
      "       'expected_time', 'lift_down', 'lift_down_level', 'lift_up',\n",
      "       'lift_up_level', 'travel_time', 'CAT 797-F', 'CAT 798-AC', 'KOM-CHQ',\n",
      "       'KOM.960E5', 'Kom.930E-4', 'Kom.930E-4SE', 'Kom.930EN', 'Kom.930ER',\n",
      "       'Kom.930ER-MT', 'Kom.980E5', 'Komatsu AHS', 'truck_avail'],\n",
      "      dtype='object')\n"
     ]
    }
   ],
   "source": [
    "print(df_estadisticas_up.columns)"
   ]
  },
  {
   "cell_type": "markdown",
   "metadata": {},
   "source": [
    "### **_1. Comparamos las Disponibilidades Originales vs las Disponibilidades Finales_**"
   ]
  },
  {
   "cell_type": "code",
   "execution_count": 8,
   "metadata": {},
   "outputs": [
    {
     "data": {
      "text/html": [
       "<div>\n",
       "<style scoped>\n",
       "    .dataframe tbody tr th:only-of-type {\n",
       "        vertical-align: middle;\n",
       "    }\n",
       "\n",
       "    .dataframe tbody tr th {\n",
       "        vertical-align: top;\n",
       "    }\n",
       "\n",
       "    .dataframe thead th {\n",
       "        text-align: right;\n",
       "    }\n",
       "</style>\n",
       "<table border=\"1\" class=\"dataframe\">\n",
       "  <thead>\n",
       "    <tr style=\"text-align: right;\">\n",
       "      <th></th>\n",
       "      <th>prediction</th>\n",
       "      <th>dul_new</th>\n",
       "      <th>ta_original</th>\n",
       "      <th>payload</th>\n",
       "    </tr>\n",
       "  </thead>\n",
       "  <tbody>\n",
       "    <tr>\n",
       "      <th>0</th>\n",
       "      <td>142875.385561</td>\n",
       "      <td>0.832416</td>\n",
       "      <td>0.742590</td>\n",
       "      <td>134593.450048</td>\n",
       "    </tr>\n",
       "    <tr>\n",
       "      <th>1</th>\n",
       "      <td>142712.362782</td>\n",
       "      <td>0.876929</td>\n",
       "      <td>0.720616</td>\n",
       "      <td>128529.373027</td>\n",
       "    </tr>\n",
       "    <tr>\n",
       "      <th>2</th>\n",
       "      <td>144366.298793</td>\n",
       "      <td>0.839472</td>\n",
       "      <td>0.765798</td>\n",
       "      <td>139994.273048</td>\n",
       "    </tr>\n",
       "    <tr>\n",
       "      <th>3</th>\n",
       "      <td>142367.244551</td>\n",
       "      <td>0.022343</td>\n",
       "      <td>0.712443</td>\n",
       "      <td>136659.349998</td>\n",
       "    </tr>\n",
       "    <tr>\n",
       "      <th>4</th>\n",
       "      <td>142389.202125</td>\n",
       "      <td>0.568855</td>\n",
       "      <td>0.734495</td>\n",
       "      <td>124766.023081</td>\n",
       "    </tr>\n",
       "    <tr>\n",
       "      <th>...</th>\n",
       "      <td>...</td>\n",
       "      <td>...</td>\n",
       "      <td>...</td>\n",
       "      <td>...</td>\n",
       "    </tr>\n",
       "    <tr>\n",
       "      <th>507</th>\n",
       "      <td>142384.270447</td>\n",
       "      <td>0.852178</td>\n",
       "      <td>0.779352</td>\n",
       "      <td>140439.223881</td>\n",
       "    </tr>\n",
       "    <tr>\n",
       "      <th>508</th>\n",
       "      <td>143286.544941</td>\n",
       "      <td>0.865869</td>\n",
       "      <td>0.758762</td>\n",
       "      <td>129308.830067</td>\n",
       "    </tr>\n",
       "    <tr>\n",
       "      <th>509</th>\n",
       "      <td>142463.281461</td>\n",
       "      <td>1.144239</td>\n",
       "      <td>0.744534</td>\n",
       "      <td>115542.896976</td>\n",
       "    </tr>\n",
       "    <tr>\n",
       "      <th>510</th>\n",
       "      <td>143442.730208</td>\n",
       "      <td>0.839472</td>\n",
       "      <td>0.749142</td>\n",
       "      <td>116144.915930</td>\n",
       "    </tr>\n",
       "    <tr>\n",
       "      <th>511</th>\n",
       "      <td>142419.607293</td>\n",
       "      <td>0.872138</td>\n",
       "      <td>0.781764</td>\n",
       "      <td>120091.925007</td>\n",
       "    </tr>\n",
       "  </tbody>\n",
       "</table>\n",
       "<p>512 rows × 4 columns</p>\n",
       "</div>"
      ],
      "text/plain": [
       "        prediction   dul_new  ta_original        payload\n",
       "0    142875.385561  0.832416     0.742590  134593.450048\n",
       "1    142712.362782  0.876929     0.720616  128529.373027\n",
       "2    144366.298793  0.839472     0.765798  139994.273048\n",
       "3    142367.244551  0.022343     0.712443  136659.349998\n",
       "4    142389.202125  0.568855     0.734495  124766.023081\n",
       "..             ...       ...          ...            ...\n",
       "507  142384.270447  0.852178     0.779352  140439.223881\n",
       "508  143286.544941  0.865869     0.758762  129308.830067\n",
       "509  142463.281461  1.144239     0.744534  115542.896976\n",
       "510  143442.730208  0.839472     0.749142  116144.915930\n",
       "511  142419.607293  0.872138     0.781764  120091.925007\n",
       "\n",
       "[512 rows x 4 columns]"
      ]
     },
     "execution_count": 8,
     "metadata": {},
     "output_type": "execute_result"
    }
   ],
   "source": [
    "# utilizamos las columnas de interés\n",
    "resul_interes = pd.concat([df_resultado[['prediction','distance_up_level','status']],df_com_down[['truck_avail','payload']]],axis=1).copy()\n",
    "resul_interes = resul_interes[resul_interes['status'] == 'cumple'][['prediction','distance_up_level','truck_avail','payload']]\n",
    "resul_interes = resul_interes.drop_duplicates().reset_index(drop=True)\n",
    "resul_interes = resul_interes.rename(columns={'distance_up_level':'dul_new','truck_avail':'ta_original'})\n",
    "resul_interes"
   ]
  },
  {
   "cell_type": "code",
   "execution_count": 9,
   "metadata": {},
   "outputs": [],
   "source": [
    "# des escalamos la variable dul_new\n",
    "resul_interes['dul_new_normal'] = resul_interes['dul_new'] * df_estadisticas['distance_up_level']['std'] \\\n",
    "                          + df_estadisticas['distance_up_level']['mean']"
   ]
  },
  {
   "cell_type": "code",
   "execution_count": 10,
   "metadata": {},
   "outputs": [],
   "source": [
    "# traemos las nuevas truck_avail\n",
    "for i in range(len(resul_interes)):\n",
    "    resul_interes.loc[i, 'ta_new'] = df_com_up.loc[df_com_up['distance_up_level'] == resul_interes.loc[i, 'dul_new'], 'truck_avail'].values[0]\n",
    "    resul_interes.loc[i, 'ta_new'] "
   ]
  },
  {
   "cell_type": "code",
   "execution_count": 11,
   "metadata": {},
   "outputs": [],
   "source": [
    "# generamos columnas de diferencia\n",
    "resul_interes['diff_ta'] = resul_interes['ta_new'] - resul_interes['ta_original'] # diferencia en truck_avail\n",
    "resul_interes['diff_pay'] = resul_interes['prediction'] - resul_interes['payload'] # diferencia en payload\n",
    "              "
   ]
  },
  {
   "cell_type": "code",
   "execution_count": 12,
   "metadata": {},
   "outputs": [
    {
     "data": {
      "text/html": [
       "<div>\n",
       "<style scoped>\n",
       "    .dataframe tbody tr th:only-of-type {\n",
       "        vertical-align: middle;\n",
       "    }\n",
       "\n",
       "    .dataframe tbody tr th {\n",
       "        vertical-align: top;\n",
       "    }\n",
       "\n",
       "    .dataframe thead th {\n",
       "        text-align: right;\n",
       "    }\n",
       "</style>\n",
       "<table border=\"1\" class=\"dataframe\">\n",
       "  <thead>\n",
       "    <tr style=\"text-align: right;\">\n",
       "      <th></th>\n",
       "      <th>prediction</th>\n",
       "      <th>dul_new</th>\n",
       "      <th>ta_original</th>\n",
       "      <th>payload</th>\n",
       "      <th>dul_new_normal</th>\n",
       "      <th>ta_new</th>\n",
       "      <th>diff_ta</th>\n",
       "      <th>diff_pay</th>\n",
       "    </tr>\n",
       "  </thead>\n",
       "  <tbody>\n",
       "    <tr>\n",
       "      <th>0</th>\n",
       "      <td>142875.385561</td>\n",
       "      <td>0.832416</td>\n",
       "      <td>0.742590</td>\n",
       "      <td>134593.450048</td>\n",
       "      <td>5.150966e+06</td>\n",
       "      <td>0.774903</td>\n",
       "      <td>0.032312</td>\n",
       "      <td>8281.935513</td>\n",
       "    </tr>\n",
       "    <tr>\n",
       "      <th>1</th>\n",
       "      <td>142712.362782</td>\n",
       "      <td>0.876929</td>\n",
       "      <td>0.720616</td>\n",
       "      <td>128529.373027</td>\n",
       "      <td>5.193866e+06</td>\n",
       "      <td>0.773564</td>\n",
       "      <td>0.052948</td>\n",
       "      <td>14182.989755</td>\n",
       "    </tr>\n",
       "    <tr>\n",
       "      <th>2</th>\n",
       "      <td>144366.298793</td>\n",
       "      <td>0.839472</td>\n",
       "      <td>0.765798</td>\n",
       "      <td>139994.273048</td>\n",
       "      <td>5.157766e+06</td>\n",
       "      <td>0.787120</td>\n",
       "      <td>0.021321</td>\n",
       "      <td>4372.025745</td>\n",
       "    </tr>\n",
       "    <tr>\n",
       "      <th>3</th>\n",
       "      <td>142367.244551</td>\n",
       "      <td>0.022343</td>\n",
       "      <td>0.712443</td>\n",
       "      <td>136659.349998</td>\n",
       "      <td>4.370244e+06</td>\n",
       "      <td>0.751869</td>\n",
       "      <td>0.039426</td>\n",
       "      <td>5707.894553</td>\n",
       "    </tr>\n",
       "    <tr>\n",
       "      <th>4</th>\n",
       "      <td>142389.202125</td>\n",
       "      <td>0.568855</td>\n",
       "      <td>0.734495</td>\n",
       "      <td>124766.023081</td>\n",
       "      <td>4.896955e+06</td>\n",
       "      <td>0.742916</td>\n",
       "      <td>0.008421</td>\n",
       "      <td>17623.179044</td>\n",
       "    </tr>\n",
       "    <tr>\n",
       "      <th>...</th>\n",
       "      <td>...</td>\n",
       "      <td>...</td>\n",
       "      <td>...</td>\n",
       "      <td>...</td>\n",
       "      <td>...</td>\n",
       "      <td>...</td>\n",
       "      <td>...</td>\n",
       "      <td>...</td>\n",
       "    </tr>\n",
       "    <tr>\n",
       "      <th>507</th>\n",
       "      <td>142384.270447</td>\n",
       "      <td>0.852178</td>\n",
       "      <td>0.779352</td>\n",
       "      <td>140439.223881</td>\n",
       "      <td>5.170012e+06</td>\n",
       "      <td>0.787995</td>\n",
       "      <td>0.008643</td>\n",
       "      <td>1945.046566</td>\n",
       "    </tr>\n",
       "    <tr>\n",
       "      <th>508</th>\n",
       "      <td>143286.544941</td>\n",
       "      <td>0.865869</td>\n",
       "      <td>0.758762</td>\n",
       "      <td>129308.830067</td>\n",
       "      <td>5.183206e+06</td>\n",
       "      <td>0.801344</td>\n",
       "      <td>0.042582</td>\n",
       "      <td>13977.714873</td>\n",
       "    </tr>\n",
       "    <tr>\n",
       "      <th>509</th>\n",
       "      <td>142463.281461</td>\n",
       "      <td>1.144239</td>\n",
       "      <td>0.744534</td>\n",
       "      <td>115542.896976</td>\n",
       "      <td>5.451491e+06</td>\n",
       "      <td>0.822237</td>\n",
       "      <td>0.077703</td>\n",
       "      <td>26920.384484</td>\n",
       "    </tr>\n",
       "    <tr>\n",
       "      <th>510</th>\n",
       "      <td>143442.730208</td>\n",
       "      <td>0.839472</td>\n",
       "      <td>0.749142</td>\n",
       "      <td>116144.915930</td>\n",
       "      <td>5.157766e+06</td>\n",
       "      <td>0.787120</td>\n",
       "      <td>0.037978</td>\n",
       "      <td>27297.814278</td>\n",
       "    </tr>\n",
       "    <tr>\n",
       "      <th>511</th>\n",
       "      <td>142419.607293</td>\n",
       "      <td>0.872138</td>\n",
       "      <td>0.781764</td>\n",
       "      <td>120091.925007</td>\n",
       "      <td>5.189248e+06</td>\n",
       "      <td>0.804739</td>\n",
       "      <td>0.022974</td>\n",
       "      <td>22327.682287</td>\n",
       "    </tr>\n",
       "  </tbody>\n",
       "</table>\n",
       "<p>512 rows × 8 columns</p>\n",
       "</div>"
      ],
      "text/plain": [
       "        prediction   dul_new  ta_original        payload  dul_new_normal  \\\n",
       "0    142875.385561  0.832416     0.742590  134593.450048    5.150966e+06   \n",
       "1    142712.362782  0.876929     0.720616  128529.373027    5.193866e+06   \n",
       "2    144366.298793  0.839472     0.765798  139994.273048    5.157766e+06   \n",
       "3    142367.244551  0.022343     0.712443  136659.349998    4.370244e+06   \n",
       "4    142389.202125  0.568855     0.734495  124766.023081    4.896955e+06   \n",
       "..             ...       ...          ...            ...             ...   \n",
       "507  142384.270447  0.852178     0.779352  140439.223881    5.170012e+06   \n",
       "508  143286.544941  0.865869     0.758762  129308.830067    5.183206e+06   \n",
       "509  142463.281461  1.144239     0.744534  115542.896976    5.451491e+06   \n",
       "510  143442.730208  0.839472     0.749142  116144.915930    5.157766e+06   \n",
       "511  142419.607293  0.872138     0.781764  120091.925007    5.189248e+06   \n",
       "\n",
       "       ta_new   diff_ta      diff_pay  \n",
       "0    0.774903  0.032312   8281.935513  \n",
       "1    0.773564  0.052948  14182.989755  \n",
       "2    0.787120  0.021321   4372.025745  \n",
       "3    0.751869  0.039426   5707.894553  \n",
       "4    0.742916  0.008421  17623.179044  \n",
       "..        ...       ...           ...  \n",
       "507  0.787995  0.008643   1945.046566  \n",
       "508  0.801344  0.042582  13977.714873  \n",
       "509  0.822237  0.077703  26920.384484  \n",
       "510  0.787120  0.037978  27297.814278  \n",
       "511  0.804739  0.022974  22327.682287  \n",
       "\n",
       "[512 rows x 8 columns]"
      ]
     },
     "execution_count": 12,
     "metadata": {},
     "output_type": "execute_result"
    }
   ],
   "source": [
    "resul_interes"
   ]
  },
  {
   "cell_type": "code",
   "execution_count": 13,
   "metadata": {},
   "outputs": [
    {
     "data": {
      "text/plain": [
       "<Axes: ylabel='Frequency'>"
      ]
     },
     "execution_count": 13,
     "metadata": {},
     "output_type": "execute_result"
    },
    {
     "data": {
      "image/png": "[encoded data removed]",
      "text/plain": [
       "<Figure size 640x480 with 1 Axes>"
      ]
     },
     "metadata": {},
     "output_type": "display_data"
    }
   ],
   "source": [
    "resul_interes['diff_ta'].plot(kind='hist', bins=20, color='skyblue', edgecolor='black', linewidth=1.2)"
   ]
  },
  {
   "cell_type": "code",
   "execution_count": 14,
   "metadata": {},
   "outputs": [
    {
     "data": {
      "text/plain": [
       "140"
      ]
     },
     "execution_count": 14,
     "metadata": {},
     "output_type": "execute_result"
    }
   ],
   "source": [
    "resul_interes['diff_ta'][(resul_interes['diff_ta'] >=0) & (resul_interes['diff_ta'] <= 0.04)].value_counts().sum()"
   ]
  },
  {
   "cell_type": "code",
   "execution_count": 15,
   "metadata": {},
   "outputs": [
    {
     "data": {
      "text/plain": [
       "(0.0, 60.0)"
      ]
     },
     "execution_count": 15,
     "metadata": {},
     "output_type": "execute_result"
    },
    {
     "data": {
      "image/png": "[encoded data removed]",
      "text/plain": [
       "<Figure size 640x480 with 1 Axes>"
      ]
     },
     "metadata": {},
     "output_type": "display_data"
    }
   ],
   "source": [
    "resul_interes['diff_pay'].plot(kind='hist', bins=20, color='skyblue', edgecolor='black', linewidth=1.2)\n",
    "\n",
    "# mejoramos la visualización\n",
    "sns.despine()\n",
    "plt.ylim(0, 60)"
   ]
  },
  {
   "cell_type": "code",
   "execution_count": 16,
   "metadata": {},
   "outputs": [
    {
     "data": {
      "text/html": [
       "<div>\n",
       "<style scoped>\n",
       "    .dataframe tbody tr th:only-of-type {\n",
       "        vertical-align: middle;\n",
       "    }\n",
       "\n",
       "    .dataframe tbody tr th {\n",
       "        vertical-align: top;\n",
       "    }\n",
       "\n",
       "    .dataframe thead th {\n",
       "        text-align: right;\n",
       "    }\n",
       "</style>\n",
       "<table border=\"1\" class=\"dataframe\">\n",
       "  <thead>\n",
       "    <tr style=\"text-align: right;\">\n",
       "      <th></th>\n",
       "      <th>ta_original</th>\n",
       "      <th>ta_new</th>\n",
       "    </tr>\n",
       "  </thead>\n",
       "  <tbody>\n",
       "    <tr>\n",
       "      <th>0</th>\n",
       "      <td>0.742590</td>\n",
       "      <td>0.774903</td>\n",
       "    </tr>\n",
       "    <tr>\n",
       "      <th>1</th>\n",
       "      <td>0.720616</td>\n",
       "      <td>0.773564</td>\n",
       "    </tr>\n",
       "    <tr>\n",
       "      <th>2</th>\n",
       "      <td>0.765798</td>\n",
       "      <td>0.787120</td>\n",
       "    </tr>\n",
       "    <tr>\n",
       "      <th>3</th>\n",
       "      <td>0.712443</td>\n",
       "      <td>0.751869</td>\n",
       "    </tr>\n",
       "    <tr>\n",
       "      <th>4</th>\n",
       "      <td>0.734495</td>\n",
       "      <td>0.742916</td>\n",
       "    </tr>\n",
       "    <tr>\n",
       "      <th>...</th>\n",
       "      <td>...</td>\n",
       "      <td>...</td>\n",
       "    </tr>\n",
       "    <tr>\n",
       "      <th>411</th>\n",
       "      <td>0.776218</td>\n",
       "      <td>0.804739</td>\n",
       "    </tr>\n",
       "    <tr>\n",
       "      <th>412</th>\n",
       "      <td>0.800748</td>\n",
       "      <td>0.787120</td>\n",
       "    </tr>\n",
       "    <tr>\n",
       "      <th>413</th>\n",
       "      <td>0.750878</td>\n",
       "      <td>0.822237</td>\n",
       "    </tr>\n",
       "    <tr>\n",
       "      <th>414</th>\n",
       "      <td>0.779352</td>\n",
       "      <td>0.787995</td>\n",
       "    </tr>\n",
       "    <tr>\n",
       "      <th>415</th>\n",
       "      <td>0.758762</td>\n",
       "      <td>0.801344</td>\n",
       "    </tr>\n",
       "  </tbody>\n",
       "</table>\n",
       "<p>416 rows × 2 columns</p>\n",
       "</div>"
      ],
      "text/plain": [
       "     ta_original    ta_new\n",
       "0       0.742590  0.774903\n",
       "1       0.720616  0.773564\n",
       "2       0.765798  0.787120\n",
       "3       0.712443  0.751869\n",
       "4       0.734495  0.742916\n",
       "..           ...       ...\n",
       "411     0.776218  0.804739\n",
       "412     0.800748  0.787120\n",
       "413     0.750878  0.822237\n",
       "414     0.779352  0.787995\n",
       "415     0.758762  0.801344\n",
       "\n",
       "[416 rows x 2 columns]"
      ]
     },
     "execution_count": 16,
     "metadata": {},
     "output_type": "execute_result"
    }
   ],
   "source": [
    "# nos concentramos en  los valores menores a 20_000\n",
    "ta_foco = resul_interes[resul_interes['diff_pay'] < 20_000][['ta_original','ta_new']].copy()\n",
    "ta_foco = ta_foco.reset_index(drop=True)\n",
    "ta_foco"
   ]
  },
  {
   "cell_type": "code",
   "execution_count": 17,
   "metadata": {},
   "outputs": [
    {
     "name": "stdout",
     "output_type": "stream",
     "text": [
      "Distibución NO Normal\n",
      "Distibución NO Normal\n"
     ]
    },
    {
     "data": {
      "text/plain": [
       "(None, None)"
      ]
     },
     "execution_count": 17,
     "metadata": {},
     "output_type": "execute_result"
    }
   ],
   "source": [
    "normality_test(ta_foco['ta_new']), normality_test(ta_foco['ta_original'])"
   ]
  },
  {
   "cell_type": "code",
   "execution_count": 18,
   "metadata": {},
   "outputs": [
    {
     "data": {
      "text/plain": [
       "<Axes: xlabel='ta_new', ylabel='Count'>"
      ]
     },
     "execution_count": 18,
     "metadata": {},
     "output_type": "execute_result"
    },
    {
     "data": {
      "image/png": "[encoded data removed]",
      "text/plain": [
       "<Figure size 640x480 with 1 Axes>"
      ]
     },
     "metadata": {},
     "output_type": "display_data"
    }
   ],
   "source": [
    "sns.histplot(ta_foco['ta_new'], \n",
    "             binwidth=0.025, \n",
    "             binrange=(0.650, 0.850),\n",
    "             color='skyblue', \n",
    "             edgecolor='black', \n",
    "             linewidth=1.2,\n",
    "             alpha=0.5)\n",
    "sns.histplot(ta_foco['ta_original'], \n",
    "             binwidth=0.025, \n",
    "             binrange=(0.650, 0.850),\n",
    "             color='red', \n",
    "             edgecolor='black', \n",
    "             linewidth=1.2,\n",
    "             alpha=0.5)"
   ]
  },
  {
   "cell_type": "code",
   "execution_count": 19,
   "metadata": {},
   "outputs": [
    {
     "data": {
      "text/html": [
       "<div>\n",
       "<style scoped>\n",
       "    .dataframe tbody tr th:only-of-type {\n",
       "        vertical-align: middle;\n",
       "    }\n",
       "\n",
       "    .dataframe tbody tr th {\n",
       "        vertical-align: top;\n",
       "    }\n",
       "\n",
       "    .dataframe thead th {\n",
       "        text-align: right;\n",
       "    }\n",
       "</style>\n",
       "<table border=\"1\" class=\"dataframe\">\n",
       "  <thead>\n",
       "    <tr style=\"text-align: right;\">\n",
       "      <th></th>\n",
       "      <th>distance_up_level</th>\n",
       "      <th>ta_new</th>\n",
       "    </tr>\n",
       "  </thead>\n",
       "  <tbody>\n",
       "    <tr>\n",
       "      <th>0</th>\n",
       "      <td>1.522682</td>\n",
       "      <td>0.841171</td>\n",
       "    </tr>\n",
       "    <tr>\n",
       "      <th>1</th>\n",
       "      <td>1.144239</td>\n",
       "      <td>0.822237</td>\n",
       "    </tr>\n",
       "    <tr>\n",
       "      <th>2</th>\n",
       "      <td>1.408364</td>\n",
       "      <td>0.807127</td>\n",
       "    </tr>\n",
       "    <tr>\n",
       "      <th>3</th>\n",
       "      <td>0.891184</td>\n",
       "      <td>0.818624</td>\n",
       "    </tr>\n",
       "    <tr>\n",
       "      <th>7</th>\n",
       "      <td>0.852178</td>\n",
       "      <td>0.787995</td>\n",
       "    </tr>\n",
       "    <tr>\n",
       "      <th>...</th>\n",
       "      <td>...</td>\n",
       "      <td>...</td>\n",
       "    </tr>\n",
       "    <tr>\n",
       "      <th>625</th>\n",
       "      <td>-1.034521</td>\n",
       "      <td>0.688605</td>\n",
       "    </tr>\n",
       "    <tr>\n",
       "      <th>627</th>\n",
       "      <td>-1.279719</td>\n",
       "      <td>0.747554</td>\n",
       "    </tr>\n",
       "    <tr>\n",
       "      <th>653</th>\n",
       "      <td>-0.842504</td>\n",
       "      <td>0.719127</td>\n",
       "    </tr>\n",
       "    <tr>\n",
       "      <th>690</th>\n",
       "      <td>-0.926930</td>\n",
       "      <td>0.761962</td>\n",
       "    </tr>\n",
       "    <tr>\n",
       "      <th>704</th>\n",
       "      <td>-1.153166</td>\n",
       "      <td>0.754943</td>\n",
       "    </tr>\n",
       "  </tbody>\n",
       "</table>\n",
       "<p>64 rows × 2 columns</p>\n",
       "</div>"
      ],
      "text/plain": [
       "     distance_up_level    ta_new\n",
       "0             1.522682  0.841171\n",
       "1             1.144239  0.822237\n",
       "2             1.408364  0.807127\n",
       "3             0.891184  0.818624\n",
       "7             0.852178  0.787995\n",
       "..                 ...       ...\n",
       "625          -1.034521  0.688605\n",
       "627          -1.279719  0.747554\n",
       "653          -0.842504  0.719127\n",
       "690          -0.926930  0.761962\n",
       "704          -1.153166  0.754943\n",
       "\n",
       "[64 rows x 2 columns]"
      ]
     },
     "execution_count": 19,
     "metadata": {},
     "output_type": "execute_result"
    }
   ],
   "source": [
    "# buscamos las coincidencias de las distance_up_level\n",
    "coincidencia = df_com_up[df_com_up['distance_up_level'].isin(resul_interes['dul_new'])]\n",
    "coincidencia = coincidencia[['distance_up_level','truck_avail']]\n",
    "coincidencia = coincidencia.rename(columns={'truck_avail':'ta_new'})\n",
    "coincidencia"
   ]
  },
  {
   "cell_type": "code",
   "execution_count": 20,
   "metadata": {},
   "outputs": [
    {
     "data": {
      "image/png": "[encoded data removed]",
      "text/plain": [
       "<Figure size 1000x600 with 1 Axes>"
      ]
     },
     "metadata": {},
     "output_type": "display_data"
    }
   ],
   "source": [
    "# Configuramos el tamaño de la figura\n",
    "plt.figure(figsize=(10,6))\n",
    "\n",
    "# Graficamos las distribuciones con estilos mejorados\n",
    "sns.kdeplot(resul_interes['ta_original'], label='Original', color='blue', linewidth=1, fill=True, alpha=0.2)\n",
    "sns.kdeplot(coincidencia['ta_new'], label='Nuevo', color='red', linewidth=1, fill=True, alpha=0.2)\n",
    "\n",
    "# Mejoramos la visualización\n",
    "sns.despine()\n",
    "\n",
    "# Añadimos etiquetas de los ejes\n",
    "plt.xlabel('Disponibilidad Camiones (%)', fontsize=12)\n",
    "plt.ylabel('Densidad', fontsize=12)\n",
    "\n",
    "# Formato del eje x en porcentaje\n",
    "plt.gca().xaxis.set_major_formatter(mtick.PercentFormatter(1, decimals=0))\n",
    "\n",
    "# Ajustamos el tamaño de las etiquetas de los ejes\n",
    "plt.xticks(fontsize=10)\n",
    "plt.yticks(fontsize=10)\n",
    "\n",
    "# Calculamos la media de cada distribución\n",
    "mediana_original = resul_interes['ta_original'].median()\n",
    "mediana_nueva = coincidencia['ta_new'].median()\n",
    "\n",
    "# Añadimos líneas verticales en las medias\n",
    "plt.axvline(mediana_original, color='blue', linestyle='--', linewidth=1.5)\n",
    "plt.axvline(mediana_nueva, color='red', linestyle='--', linewidth=1.5)\n",
    "\n",
    "# Añadimos texto con las medias\n",
    "plt.text(mediana_original - 0.1, 9, f'Mediana Original: {mediana_original:.1%}', fontsize=10, color='blue')\n",
    "plt.text(mediana_nueva + 0.03, 9, f'Mediana Nuevo: {mediana_nueva:.1%}', fontsize=10, color='red')\n",
    "\n",
    "# Mostramos el gráfico\n",
    "plt.show()"
   ]
  },
  {
   "cell_type": "code",
   "execution_count": 25,
   "metadata": {},
   "outputs": [
    {
     "data": {
      "image/png": "[encoded data removed]",
      "text/plain": [
       "<Figure size 1000x600 with 1 Axes>"
      ]
     },
     "metadata": {},
     "output_type": "display_data"
    }
   ],
   "source": [
    "# Configuramos el tamaño de la figura\n",
    "plt.figure(figsize=(10,6))\n",
    "\n",
    "# Graficamos las distribuciones con estilos mejorados\n",
    "sns.kdeplot(resul_interes['ta_original'], label='Original', color='blue', linewidth=1, fill=True, alpha=0.2)\n",
    "sns.kdeplot(resul_interes['ta_new'], label='Nuevo', color='red', linewidth=1, fill=True, alpha=0.2)\n",
    "\n",
    "# Mejoramos la visualización\n",
    "sns.despine()\n",
    "\n",
    "# Añadimos etiquetas de los ejes\n",
    "plt.xlabel('Disponibilidad Camiones (%)', fontsize=12)\n",
    "plt.ylabel('Densidad', fontsize=12)\n",
    "\n",
    "# Formato del eje x en porcentaje\n",
    "plt.gca().xaxis.set_major_formatter(mtick.PercentFormatter(1, decimals=0))\n",
    "\n",
    "# Ajustamos el tamaño de las etiquetas de los ejes\n",
    "plt.xticks(fontsize=10)\n",
    "plt.yticks(fontsize=10)\n",
    "\n",
    "# Calculamos la media de cada distribución\n",
    "mediana_original = resul_interes['ta_original'].median()\n",
    "mediana_nueva = resul_interes['ta_new'].median()\n",
    "\n",
    "# Añadimos líneas verticales en las medias\n",
    "plt.axvline(mediana_original, color='blue', linestyle='--', linewidth=1.5)\n",
    "plt.axvline(mediana_nueva, color='red', linestyle='--', linewidth=1.5)\n",
    "\n",
    "# Añadimos texto con las medias\n",
    "plt.text(mediana_original - 0.1, 9, f'Mediana Original: {mediana_original:.1%}', fontsize=10, color='blue')\n",
    "plt.text(mediana_nueva + 0.03, 9, f'Mediana Nuevo: {mediana_nueva:.1%}', fontsize=10, color='red')\n",
    "\n",
    "# Mostramos el gráfico\n",
    "plt.show()"
   ]
  },
  {
   "cell_type": "code",
   "execution_count": 35,
   "metadata": {},
   "outputs": [
    {
     "data": {
      "image/png": "[encoded data removed]",
      "text/plain": [
       "<Figure size 1000x600 with 1 Axes>"
      ]
     },
     "metadata": {},
     "output_type": "display_data"
    }
   ],
   "source": [
    "# Configuramos el tamaño de la figura\n",
    "plt.figure(figsize=(10,6))\n",
    "\n",
    "# Graficamos las distribuciones con estilos mejorados\n",
    "sns.boxplot(data=resul_interes[['ta_original', 'ta_new']], palette='viridis')\n",
    "\n",
    "# Mejoramos la visualización\n",
    "sns.despine()\n",
    "\n",
    "# Añadimos etiquetas de los ejes\n",
    "plt.ylabel('Disponibilidad CAEX', fontsize=12)\n",
    "\n",
    "# Formato del eje x en porcentaje\n",
    "plt.gca().yaxis.set_major_formatter(mtick.PercentFormatter(1, decimals=0))\n",
    "\n",
    "# Ajustamos el tamaño de las etiquetas de los ejes\n",
    "plt.xticks(fontsize=10, ticks=[0, 1], labels=['Original', 'Nuevo'])\n",
    "plt.yticks(fontsize=10)\n",
    "\n",
    "# Mostramos el gráfico\n",
    "plt.show()"
   ]
  },
  {
   "cell_type": "code",
   "execution_count": 36,
   "metadata": {},
   "outputs": [
    {
     "data": {
      "text/plain": [
       "count    512.000000\n",
       "mean       0.769217\n",
       "std        0.032688\n",
       "min        0.647743\n",
       "25%        0.751361\n",
       "50%        0.774903\n",
       "75%        0.787120\n",
       "max        0.841171\n",
       "Name: ta_new, dtype: float64"
      ]
     },
     "execution_count": 36,
     "metadata": {},
     "output_type": "execute_result"
    }
   ],
   "source": [
    "resul_interes['ta_new'].describe()"
   ]
  },
  {
   "cell_type": "code",
   "execution_count": 37,
   "metadata": {},
   "outputs": [
    {
     "data": {
      "text/plain": [
       "count    512.000000\n",
       "mean       0.744974\n",
       "std        0.044094\n",
       "min        0.622591\n",
       "25%        0.713344\n",
       "50%        0.748889\n",
       "75%        0.778749\n",
       "max        0.839586\n",
       "Name: ta_original, dtype: float64"
      ]
     },
     "execution_count": 37,
     "metadata": {},
     "output_type": "execute_result"
    }
   ],
   "source": [
    "resul_interes['ta_original'].describe()"
   ]
  },
  {
   "cell_type": "code",
   "execution_count": 38,
   "metadata": {},
   "outputs": [
    {
     "name": "stdout",
     "output_type": "stream",
     "text": [
      "Distibución NO Normal\n",
      "Distibución NO Normal\n"
     ]
    }
   ],
   "source": [
    "# Test de normalidad\n",
    "normality_test(resul_interes['ta_original'])\n",
    "normality_test(resul_interes['ta_new'])"
   ]
  }
 ],
 "metadata": {
  "kernelspec": {
   "display_name": "py312",
   "language": "python",
   "name": "python3"
  },
  "language_info": {
   "codemirror_mode": {
    "name": "ipython",
    "version": 3
   },
   "file_extension": ".py",
   "mimetype": "text/x-python",
   "name": "python",
   "nbconvert_exporter": "python",
   "pygments_lexer": "ipython3",
   "version": "3.12.6"
  }
 },
 "nbformat": 4,
 "nbformat_minor": 2
}
