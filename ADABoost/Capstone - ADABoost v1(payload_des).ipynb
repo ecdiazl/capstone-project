{
 "cells": [
  {
   "cell_type": "markdown",
   "id": "e4144d28",
   "metadata": {},
   "source": [
    "## **Capstone MDS - ADABoost**"
   ]
  },
  {
   "cell_type": "markdown",
   "id": "cb678893",
   "metadata": {},
   "source": [
    "#### **_Integrantes:_**  \n",
    "\n",
    "1. Evans Díaz   \n",
    "1. Felipe Ojeda\n",
    "1. Javier Cofre  \n",
    "1. Luis Reinoso"
   ]
  },
  {
   "cell_type": "code",
   "execution_count": 1,
   "id": "c0ff10da",
   "metadata": {},
   "outputs": [],
   "source": [
    "# importar librerías\n",
    "%matplotlib inline\n",
    "\n",
    "import pandas as pd\n",
    "import numpy as np\n",
    "import matplotlib.pyplot as plt\n",
    "import matplotlib.ticker as ticker\n",
    "import seaborn as sns\n",
    "import statsmodels.api as sm\n",
    "\n",
    "from sklearn.model_selection import train_test_split, GridSearchCV\n",
    "from sklearn.metrics import mean_squared_error, r2_score\n",
    "from sklearn.ensemble import AdaBoostRegressor\n",
    "from sklearn.tree import DecisionTreeRegressor\n",
    "from matplotlib.ticker import EngFormatter"
   ]
  },
  {
   "cell_type": "code",
   "execution_count": 2,
   "id": "1fdbd471",
   "metadata": {},
   "outputs": [],
   "source": [
    "# función cálculo R2, RMSE y MSE\n",
    "def R2_RMSE(y_true, y_pred):\n",
    "  # cálculo de R2 y RMSE\n",
    "  r2 = r2_score(y_true, y_pred)\n",
    "  mse = mean_squared_error(y_true, y_pred)\n",
    "  rmse = np.sqrt(mse)\n",
    "  \n",
    "  return print('R2:',r2), print('RMSE:',rmse), print('MSE:', mse)"
   ]
  },
  {
   "cell_type": "markdown",
   "id": "44b27c84",
   "metadata": {},
   "source": [
    "## **_1. Lectura (carga) de los Datos_**"
   ]
  },
  {
   "cell_type": "code",
   "execution_count": 3,
   "id": "208757c1",
   "metadata": {},
   "outputs": [],
   "source": [
    "# importamos archivo\n",
    "df = pd.read_csv('../Data/df_final_pay.csv')"
   ]
  },
  {
   "cell_type": "code",
   "execution_count": 4,
   "id": "2fcb817d",
   "metadata": {},
   "outputs": [
    {
     "data": {
      "text/html": [
       "<div>\n",
       "<style scoped>\n",
       "    .dataframe tbody tr th:only-of-type {\n",
       "        vertical-align: middle;\n",
       "    }\n",
       "\n",
       "    .dataframe tbody tr th {\n",
       "        vertical-align: top;\n",
       "    }\n",
       "\n",
       "    .dataframe thead th {\n",
       "        text-align: right;\n",
       "    }\n",
       "</style>\n",
       "<table border=\"1\" class=\"dataframe\">\n",
       "  <thead>\n",
       "    <tr style=\"text-align: right;\">\n",
       "      <th></th>\n",
       "      <th>crew_E2</th>\n",
       "      <th>crew_E3</th>\n",
       "      <th>crew_E4</th>\n",
       "      <th>day_10</th>\n",
       "      <th>day_11</th>\n",
       "      <th>day_12</th>\n",
       "      <th>day_13</th>\n",
       "      <th>day_14</th>\n",
       "      <th>day_15</th>\n",
       "      <th>day_16</th>\n",
       "      <th>...</th>\n",
       "      <th>CAT 798-AC_des</th>\n",
       "      <th>KOM-CHQ_des</th>\n",
       "      <th>KOM.960E5_des</th>\n",
       "      <th>Kom.930E-4_des</th>\n",
       "      <th>Kom.930E-4SE_des</th>\n",
       "      <th>Kom.930EN_des</th>\n",
       "      <th>Kom.930ER_des</th>\n",
       "      <th>Kom.930ER-MT_des</th>\n",
       "      <th>Kom.980E5_des</th>\n",
       "      <th>Komatsu AHS_des</th>\n",
       "    </tr>\n",
       "  </thead>\n",
       "  <tbody>\n",
       "    <tr>\n",
       "      <th>0</th>\n",
       "      <td>False</td>\n",
       "      <td>False</td>\n",
       "      <td>True</td>\n",
       "      <td>False</td>\n",
       "      <td>False</td>\n",
       "      <td>False</td>\n",
       "      <td>False</td>\n",
       "      <td>False</td>\n",
       "      <td>False</td>\n",
       "      <td>False</td>\n",
       "      <td>...</td>\n",
       "      <td>-0.21334</td>\n",
       "      <td>-0.575556</td>\n",
       "      <td>2.735792</td>\n",
       "      <td>0.191462</td>\n",
       "      <td>0.563663</td>\n",
       "      <td>2.277691</td>\n",
       "      <td>0.101727</td>\n",
       "      <td>-0.035749</td>\n",
       "      <td>-2.98167</td>\n",
       "      <td>-0.101592</td>\n",
       "    </tr>\n",
       "    <tr>\n",
       "      <th>1</th>\n",
       "      <td>True</td>\n",
       "      <td>False</td>\n",
       "      <td>False</td>\n",
       "      <td>False</td>\n",
       "      <td>False</td>\n",
       "      <td>False</td>\n",
       "      <td>False</td>\n",
       "      <td>False</td>\n",
       "      <td>False</td>\n",
       "      <td>False</td>\n",
       "      <td>...</td>\n",
       "      <td>-0.21334</td>\n",
       "      <td>-0.575556</td>\n",
       "      <td>2.735792</td>\n",
       "      <td>0.191462</td>\n",
       "      <td>0.607062</td>\n",
       "      <td>2.277691</td>\n",
       "      <td>0.101727</td>\n",
       "      <td>-0.035749</td>\n",
       "      <td>-2.98167</td>\n",
       "      <td>-0.101592</td>\n",
       "    </tr>\n",
       "    <tr>\n",
       "      <th>2</th>\n",
       "      <td>False</td>\n",
       "      <td>False</td>\n",
       "      <td>True</td>\n",
       "      <td>False</td>\n",
       "      <td>False</td>\n",
       "      <td>False</td>\n",
       "      <td>False</td>\n",
       "      <td>False</td>\n",
       "      <td>False</td>\n",
       "      <td>False</td>\n",
       "      <td>...</td>\n",
       "      <td>-0.21334</td>\n",
       "      <td>-0.575556</td>\n",
       "      <td>2.735792</td>\n",
       "      <td>0.191462</td>\n",
       "      <td>0.520264</td>\n",
       "      <td>2.277691</td>\n",
       "      <td>0.101727</td>\n",
       "      <td>-0.035749</td>\n",
       "      <td>-2.98167</td>\n",
       "      <td>-0.101592</td>\n",
       "    </tr>\n",
       "    <tr>\n",
       "      <th>3</th>\n",
       "      <td>True</td>\n",
       "      <td>False</td>\n",
       "      <td>False</td>\n",
       "      <td>False</td>\n",
       "      <td>False</td>\n",
       "      <td>False</td>\n",
       "      <td>False</td>\n",
       "      <td>False</td>\n",
       "      <td>False</td>\n",
       "      <td>False</td>\n",
       "      <td>...</td>\n",
       "      <td>-0.21334</td>\n",
       "      <td>-0.575556</td>\n",
       "      <td>2.735792</td>\n",
       "      <td>-1.756724</td>\n",
       "      <td>0.607062</td>\n",
       "      <td>2.277691</td>\n",
       "      <td>0.101727</td>\n",
       "      <td>-0.035749</td>\n",
       "      <td>-2.98167</td>\n",
       "      <td>-0.101592</td>\n",
       "    </tr>\n",
       "    <tr>\n",
       "      <th>4</th>\n",
       "      <td>False</td>\n",
       "      <td>False</td>\n",
       "      <td>True</td>\n",
       "      <td>False</td>\n",
       "      <td>False</td>\n",
       "      <td>False</td>\n",
       "      <td>False</td>\n",
       "      <td>False</td>\n",
       "      <td>False</td>\n",
       "      <td>False</td>\n",
       "      <td>...</td>\n",
       "      <td>-0.21334</td>\n",
       "      <td>-0.575556</td>\n",
       "      <td>2.735792</td>\n",
       "      <td>0.191462</td>\n",
       "      <td>0.563663</td>\n",
       "      <td>2.277691</td>\n",
       "      <td>0.101727</td>\n",
       "      <td>-0.035749</td>\n",
       "      <td>-2.98167</td>\n",
       "      <td>-0.101592</td>\n",
       "    </tr>\n",
       "  </tbody>\n",
       "</table>\n",
       "<p>5 rows × 86 columns</p>\n",
       "</div>"
      ],
      "text/plain": [
       "   crew_E2  crew_E3  crew_E4  day_10  day_11  day_12  day_13  day_14  day_15  \\\n",
       "0    False    False     True   False   False   False   False   False   False   \n",
       "1     True    False    False   False   False   False   False   False   False   \n",
       "2    False    False     True   False   False   False   False   False   False   \n",
       "3     True    False    False   False   False   False   False   False   False   \n",
       "4    False    False     True   False   False   False   False   False   False   \n",
       "\n",
       "   day_16  ...  CAT 798-AC_des  KOM-CHQ_des  KOM.960E5_des  Kom.930E-4_des  \\\n",
       "0   False  ...        -0.21334    -0.575556       2.735792        0.191462   \n",
       "1   False  ...        -0.21334    -0.575556       2.735792        0.191462   \n",
       "2   False  ...        -0.21334    -0.575556       2.735792        0.191462   \n",
       "3   False  ...        -0.21334    -0.575556       2.735792       -1.756724   \n",
       "4   False  ...        -0.21334    -0.575556       2.735792        0.191462   \n",
       "\n",
       "   Kom.930E-4SE_des  Kom.930EN_des  Kom.930ER_des  Kom.930ER-MT_des  \\\n",
       "0          0.563663       2.277691       0.101727         -0.035749   \n",
       "1          0.607062       2.277691       0.101727         -0.035749   \n",
       "2          0.520264       2.277691       0.101727         -0.035749   \n",
       "3          0.607062       2.277691       0.101727         -0.035749   \n",
       "4          0.563663       2.277691       0.101727         -0.035749   \n",
       "\n",
       "   Kom.980E5_des  Komatsu AHS_des  \n",
       "0       -2.98167        -0.101592  \n",
       "1       -2.98167        -0.101592  \n",
       "2       -2.98167        -0.101592  \n",
       "3       -2.98167        -0.101592  \n",
       "4       -2.98167        -0.101592  \n",
       "\n",
       "[5 rows x 86 columns]"
      ]
     },
     "execution_count": 4,
     "metadata": {},
     "output_type": "execute_result"
    }
   ],
   "source": [
    "# miramos el dataframe\n",
    "df.head()"
   ]
  },
  {
   "cell_type": "code",
   "execution_count": 5,
   "id": "972db570",
   "metadata": {},
   "outputs": [
    {
     "name": "stdout",
     "output_type": "stream",
     "text": [
      "<class 'pandas.core.frame.DataFrame'>\n",
      "RangeIndex: 1565 entries, 0 to 1564\n",
      "Data columns (total 86 columns):\n",
      " #   Column                Non-Null Count  Dtype  \n",
      "---  ------                --------------  -----  \n",
      " 0   crew_E2               1565 non-null   bool   \n",
      " 1   crew_E3               1565 non-null   bool   \n",
      " 2   crew_E4               1565 non-null   bool   \n",
      " 3   day_10                1565 non-null   bool   \n",
      " 4   day_11                1565 non-null   bool   \n",
      " 5   day_12                1565 non-null   bool   \n",
      " 6   day_13                1565 non-null   bool   \n",
      " 7   day_14                1565 non-null   bool   \n",
      " 8   day_15                1565 non-null   bool   \n",
      " 9   day_16                1565 non-null   bool   \n",
      " 10  day_17                1565 non-null   bool   \n",
      " 11  day_18                1565 non-null   bool   \n",
      " 12  day_19                1565 non-null   bool   \n",
      " 13  day_2                 1565 non-null   bool   \n",
      " 14  day_20                1565 non-null   bool   \n",
      " 15  day_21                1565 non-null   bool   \n",
      " 16  day_22                1565 non-null   bool   \n",
      " 17  day_23                1565 non-null   bool   \n",
      " 18  day_24                1565 non-null   bool   \n",
      " 19  day_25                1565 non-null   bool   \n",
      " 20  day_26                1565 non-null   bool   \n",
      " 21  day_27                1565 non-null   bool   \n",
      " 22  day_28                1565 non-null   bool   \n",
      " 23  day_29                1565 non-null   bool   \n",
      " 24  day_3                 1565 non-null   bool   \n",
      " 25  day_30                1565 non-null   bool   \n",
      " 26  day_31                1565 non-null   bool   \n",
      " 27  day_4                 1565 non-null   bool   \n",
      " 28  day_5                 1565 non-null   bool   \n",
      " 29  day_6                 1565 non-null   bool   \n",
      " 30  day_7                 1565 non-null   bool   \n",
      " 31  day_8                 1565 non-null   bool   \n",
      " 32  day_9                 1565 non-null   bool   \n",
      " 33  distance              1565 non-null   float64\n",
      " 34  distance_down         1565 non-null   float64\n",
      " 35  distance_down_level   1565 non-null   float64\n",
      " 36  distance_up           1565 non-null   float64\n",
      " 37  distance_up_level     1565 non-null   float64\n",
      " 38  lift_down             1565 non-null   float64\n",
      " 39  lift_down_level       1565 non-null   float64\n",
      " 40  lift_up               1565 non-null   float64\n",
      " 41  lift_up_level         1565 non-null   float64\n",
      " 42  month_10              1565 non-null   bool   \n",
      " 43  month_11              1565 non-null   bool   \n",
      " 44  month_12              1565 non-null   bool   \n",
      " 45  month_2               1565 non-null   bool   \n",
      " 46  month_3               1565 non-null   bool   \n",
      " 47  month_4               1565 non-null   bool   \n",
      " 48  month_5               1565 non-null   bool   \n",
      " 49  month_6               1565 non-null   bool   \n",
      " 50  month_7               1565 non-null   bool   \n",
      " 51  month_8               1565 non-null   bool   \n",
      " 52  month_9               1565 non-null   bool   \n",
      " 53  pay_original          1565 non-null   float64\n",
      " 54  shift_B               1565 non-null   bool   \n",
      " 55  travel_time           1565 non-null   float64\n",
      " 56  year_2023             1565 non-null   bool   \n",
      " 57  year_2024             1565 non-null   bool   \n",
      " 58  total_des             1565 non-null   float64\n",
      " 59  efectivo_des          1565 non-null   float64\n",
      " 60  mantencion_des        1565 non-null   float64\n",
      " 61  mecanica_des          1565 non-null   float64\n",
      " 62  electrica_des         1565 non-null   float64\n",
      " 63  mant_excl_des         1565 non-null   float64\n",
      " 64  mec_excl_des          1565 non-null   float64\n",
      " 65  elec_excl_des         1565 non-null   float64\n",
      " 66  som_excl_des          1565 non-null   float64\n",
      " 67  demora_des            1565 non-null   float64\n",
      " 68  r_prog_des            1565 non-null   float64\n",
      " 69  r_noprg_des           1565 non-null   float64\n",
      " 70  waiting_des           1565 non-null   float64\n",
      " 71  queued_des            1565 non-null   float64\n",
      " 72  material_tonnage_des  1565 non-null   float64\n",
      " 73  payload_des           1565 non-null   float64\n",
      " 74  expected_time_des     1565 non-null   float64\n",
      " 75  CAT 797-F_des         1565 non-null   float64\n",
      " 76  CAT 798-AC_des        1565 non-null   float64\n",
      " 77  KOM-CHQ_des           1565 non-null   float64\n",
      " 78  KOM.960E5_des         1565 non-null   float64\n",
      " 79  Kom.930E-4_des        1565 non-null   float64\n",
      " 80  Kom.930E-4SE_des      1565 non-null   float64\n",
      " 81  Kom.930EN_des         1565 non-null   float64\n",
      " 82  Kom.930ER_des         1565 non-null   float64\n",
      " 83  Kom.930ER-MT_des      1565 non-null   float64\n",
      " 84  Kom.980E5_des         1565 non-null   float64\n",
      " 85  Komatsu AHS_des       1565 non-null   float64\n",
      "dtypes: bool(47), float64(39)\n",
      "memory usage: 548.8 KB\n"
     ]
    }
   ],
   "source": [
    "# información general df\n",
    "df.info()"
   ]
  },
  {
   "cell_type": "markdown",
   "id": "dc4de051",
   "metadata": {},
   "source": [
    "## **_2 Preparación del DataFrame_**"
   ]
  },
  {
   "cell_type": "code",
   "execution_count": 6,
   "metadata": {},
   "outputs": [],
   "source": [
    "# transformamos las variables bool a categorical y le asignamos 0 o 1\n",
    "for col in df.columns:\n",
    "  if df[col].dtype == 'bool':\n",
    "     df[col] = df[col].astype('category').cat.codes\n",
    "     df[col] = df[col].astype('category') # para que quede como category y no como int8"
   ]
  },
  {
   "cell_type": "code",
   "execution_count": 7,
   "id": "6d16fb41",
   "metadata": {},
   "outputs": [
    {
     "name": "stdout",
     "output_type": "stream",
     "text": [
      "Nombre Columnas:  Index(['crew_E2', 'crew_E3', 'crew_E4', 'day_10', 'day_11', 'day_12', 'day_13',\n",
      "       'day_14', 'day_15', 'day_16', 'day_17', 'day_18', 'day_19', 'day_2',\n",
      "       'day_20', 'day_21', 'day_22', 'day_23', 'day_24', 'day_25', 'day_26',\n",
      "       'day_27', 'day_28', 'day_29', 'day_3', 'day_30', 'day_31', 'day_4',\n",
      "       'day_5', 'day_6', 'day_7', 'day_8', 'day_9', 'distance',\n",
      "       'distance_down', 'distance_down_level', 'distance_up',\n",
      "       'distance_up_level', 'lift_down', 'lift_down_level', 'lift_up',\n",
      "       'lift_up_level', 'month_10', 'month_11', 'month_12', 'month_2',\n",
      "       'month_3', 'month_4', 'month_5', 'month_6', 'month_7', 'month_8',\n",
      "       'month_9', 'pay_original', 'shift_B', 'travel_time', 'year_2023',\n",
      "       'year_2024', 'total_des', 'efectivo_des', 'mantencion_des',\n",
      "       'mecanica_des', 'electrica_des', 'mant_excl_des', 'mec_excl_des',\n",
      "       'elec_excl_des', 'som_excl_des', 'demora_des', 'r_prog_des',\n",
      "       'r_noprg_des', 'waiting_des', 'queued_des', 'material_tonnage_des',\n",
      "       'payload_des', 'expected_time_des', 'CAT 797-F_des', 'CAT 798-AC_des',\n",
      "       'KOM-CHQ_des', 'KOM.960E5_des', 'Kom.930E-4_des', 'Kom.930E-4SE_des',\n",
      "       'Kom.930EN_des', 'Kom.930ER_des', 'Kom.930ER-MT_des', 'Kom.980E5_des',\n",
      "       'Komatsu AHS_des'],\n",
      "      dtype='object')\n",
      "Cantidad Columnas:  86\n"
     ]
    }
   ],
   "source": [
    "print('Nombre Columnas: ',df.columns)\n",
    "print('Cantidad Columnas: ',len(df.columns))"
   ]
  },
  {
   "cell_type": "code",
   "execution_count": 8,
   "id": "9d720b55",
   "metadata": {},
   "outputs": [
    {
     "name": "stdout",
     "output_type": "stream",
     "text": [
      "Desviación Estándar: 19865.315566014815\n",
      "Media: 142292.45186568802\n"
     ]
    }
   ],
   "source": [
    "# cálculamos la desviaicón estándar y la media de payload\n",
    "std_y = df['pay_original'].std()\n",
    "mean_y = df['pay_original'].mean()\n",
    "\n",
    "print('Desviación Estándar:',std_y)\n",
    "print('Media:',mean_y)"
   ]
  },
  {
   "cell_type": "markdown",
   "id": "c265d3b6",
   "metadata": {},
   "source": [
    "## **_3 ADABoost_**"
   ]
  },
  {
   "cell_type": "code",
   "execution_count": 9,
   "metadata": {},
   "outputs": [],
   "source": [
    "# definimos el tamaño del set de test\n",
    "test_size = 0.25"
   ]
  },
  {
   "cell_type": "code",
   "execution_count": 10,
   "id": "9f263a1e",
   "metadata": {},
   "outputs": [],
   "source": [
    "# separamos los datos en X e y\n",
    "X = df.drop('pay_original', axis=1)\n",
    "y = df['pay_original']\n",
    "\n",
    "# dividimos los datos en train y test\n",
    "X_train, X_test, y_train, y_test = train_test_split(X, y, test_size=test_size, random_state=42) "
   ]
  },
  {
   "cell_type": "code",
   "execution_count": 11,
   "id": "d343c245",
   "metadata": {},
   "outputs": [],
   "source": [
    "# Crear un regresor de árbol de decisión como modelo base, con un solo nodo de decisión (profundidad = 1)\n",
    "base_estimator = DecisionTreeRegressor(max_depth=1)"
   ]
  },
  {
   "cell_type": "code",
   "execution_count": 12,
   "id": "d61e8db3",
   "metadata": {},
   "outputs": [],
   "source": [
    "# Inicializar el regresor AdaBoost\n",
    "ada_boost_reg = AdaBoostRegressor(estimator=base_estimator, n_estimators=50, learning_rate=1.0, random_state=42)"
   ]
  },
  {
   "cell_type": "code",
   "execution_count": 13,
   "id": "45a3ff9c",
   "metadata": {},
   "outputs": [
    {
     "data": {
      "text/html": [
       "<style>#sk-container-id-1 {\n",
       "  /* Definition of color scheme common for light and dark mode */\n",
       "  --sklearn-color-text: black;\n",
       "  --sklearn-color-line: gray;\n",
       "  /* Definition of color scheme for unfitted estimators */\n",
       "  --sklearn-color-unfitted-level-0: #fff5e6;\n",
       "  --sklearn-color-unfitted-level-1: #f6e4d2;\n",
       "  --sklearn-color-unfitted-level-2: #ffe0b3;\n",
       "  --sklearn-color-unfitted-level-3: chocolate;\n",
       "  /* Definition of color scheme for fitted estimators */\n",
       "  --sklearn-color-fitted-level-0: #f0f8ff;\n",
       "  --sklearn-color-fitted-level-1: #d4ebff;\n",
       "  --sklearn-color-fitted-level-2: #b3dbfd;\n",
       "  --sklearn-color-fitted-level-3: cornflowerblue;\n",
       "\n",
       "  /* Specific color for light theme */\n",
       "  --sklearn-color-text-on-default-background: var(--sg-text-color, var(--theme-code-foreground, var(--jp-content-font-color1, black)));\n",
       "  --sklearn-color-background: var(--sg-background-color, var(--theme-background, var(--jp-layout-color0, white)));\n",
       "  --sklearn-color-border-box: var(--sg-text-color, var(--theme-code-foreground, var(--jp-content-font-color1, black)));\n",
       "  --sklearn-color-icon: #696969;\n",
       "\n",
       "  @media (prefers-color-scheme: dark) {\n",
       "    /* Redefinition of color scheme for dark theme */\n",
       "    --sklearn-color-text-on-default-background: var(--sg-text-color, var(--theme-code-foreground, var(--jp-content-font-color1, white)));\n",
       "    --sklearn-color-background: var(--sg-background-color, var(--theme-background, var(--jp-layout-color0, #111)));\n",
       "    --sklearn-color-border-box: var(--sg-text-color, var(--theme-code-foreground, var(--jp-content-font-color1, white)));\n",
       "    --sklearn-color-icon: #878787;\n",
       "  }\n",
       "}\n",
       "\n",
       "#sk-container-id-1 {\n",
       "  color: var(--sklearn-color-text);\n",
       "}\n",
       "\n",
       "#sk-container-id-1 pre {\n",
       "  padding: 0;\n",
       "}\n",
       "\n",
       "#sk-container-id-1 input.sk-hidden--visually {\n",
       "  border: 0;\n",
       "  clip: rect(1px 1px 1px 1px);\n",
       "  clip: rect(1px, 1px, 1px, 1px);\n",
       "  height: 1px;\n",
       "  margin: -1px;\n",
       "  overflow: hidden;\n",
       "  padding: 0;\n",
       "  position: absolute;\n",
       "  width: 1px;\n",
       "}\n",
       "\n",
       "#sk-container-id-1 div.sk-dashed-wrapped {\n",
       "  border: 1px dashed var(--sklearn-color-line);\n",
       "  margin: 0 0.4em 0.5em 0.4em;\n",
       "  box-sizing: border-box;\n",
       "  padding-bottom: 0.4em;\n",
       "  background-color: var(--sklearn-color-background);\n",
       "}\n",
       "\n",
       "#sk-container-id-1 div.sk-container {\n",
       "  /* jupyter's `normalize.less` sets `[hidden] { display: none; }`\n",
       "     but bootstrap.min.css set `[hidden] { display: none !important; }`\n",
       "     so we also need the `!important` here to be able to override the\n",
       "     default hidden behavior on the sphinx rendered scikit-learn.org.\n",
       "     See: https://github.com/scikit-learn/scikit-learn/issues/21755 */\n",
       "  display: inline-block !important;\n",
       "  position: relative;\n",
       "}\n",
       "\n",
       "#sk-container-id-1 div.sk-text-repr-fallback {\n",
       "  display: none;\n",
       "}\n",
       "\n",
       "div.sk-parallel-item,\n",
       "div.sk-serial,\n",
       "div.sk-item {\n",
       "  /* draw centered vertical line to link estimators */\n",
       "  background-image: linear-gradient(var(--sklearn-color-text-on-default-background), var(--sklearn-color-text-on-default-background));\n",
       "  background-size: 2px 100%;\n",
       "  background-repeat: no-repeat;\n",
       "  background-position: center center;\n",
       "}\n",
       "\n",
       "/* Parallel-specific style estimator block */\n",
       "\n",
       "#sk-container-id-1 div.sk-parallel-item::after {\n",
       "  content: \"\";\n",
       "  width: 100%;\n",
       "  border-bottom: 2px solid var(--sklearn-color-text-on-default-background);\n",
       "  flex-grow: 1;\n",
       "}\n",
       "\n",
       "#sk-container-id-1 div.sk-parallel {\n",
       "  display: flex;\n",
       "  align-items: stretch;\n",
       "  justify-content: center;\n",
       "  background-color: var(--sklearn-color-background);\n",
       "  position: relative;\n",
       "}\n",
       "\n",
       "#sk-container-id-1 div.sk-parallel-item {\n",
       "  display: flex;\n",
       "  flex-direction: column;\n",
       "}\n",
       "\n",
       "#sk-container-id-1 div.sk-parallel-item:first-child::after {\n",
       "  align-self: flex-end;\n",
       "  width: 50%;\n",
       "}\n",
       "\n",
       "#sk-container-id-1 div.sk-parallel-item:last-child::after {\n",
       "  align-self: flex-start;\n",
       "  width: 50%;\n",
       "}\n",
       "\n",
       "#sk-container-id-1 div.sk-parallel-item:only-child::after {\n",
       "  width: 0;\n",
       "}\n",
       "\n",
       "/* Serial-specific style estimator block */\n",
       "\n",
       "#sk-container-id-1 div.sk-serial {\n",
       "  display: flex;\n",
       "  flex-direction: column;\n",
       "  align-items: center;\n",
       "  background-color: var(--sklearn-color-background);\n",
       "  padding-right: 1em;\n",
       "  padding-left: 1em;\n",
       "}\n",
       "\n",
       "\n",
       "/* Toggleable style: style used for estimator/Pipeline/ColumnTransformer box that is\n",
       "clickable and can be expanded/collapsed.\n",
       "- Pipeline and ColumnTransformer use this feature and define the default style\n",
       "- Estimators will overwrite some part of the style using the `sk-estimator` class\n",
       "*/\n",
       "\n",
       "/* Pipeline and ColumnTransformer style (default) */\n",
       "\n",
       "#sk-container-id-1 div.sk-toggleable {\n",
       "  /* Default theme specific background. It is overwritten whether we have a\n",
       "  specific estimator or a Pipeline/ColumnTransformer */\n",
       "  background-color: var(--sklearn-color-background);\n",
       "}\n",
       "\n",
       "/* Toggleable label */\n",
       "#sk-container-id-1 label.sk-toggleable__label {\n",
       "  cursor: pointer;\n",
       "  display: block;\n",
       "  width: 100%;\n",
       "  margin-bottom: 0;\n",
       "  padding: 0.5em;\n",
       "  box-sizing: border-box;\n",
       "  text-align: center;\n",
       "}\n",
       "\n",
       "#sk-container-id-1 label.sk-toggleable__label-arrow:before {\n",
       "  /* Arrow on the left of the label */\n",
       "  content: \"▸\";\n",
       "  float: left;\n",
       "  margin-right: 0.25em;\n",
       "  color: var(--sklearn-color-icon);\n",
       "}\n",
       "\n",
       "#sk-container-id-1 label.sk-toggleable__label-arrow:hover:before {\n",
       "  color: var(--sklearn-color-text);\n",
       "}\n",
       "\n",
       "/* Toggleable content - dropdown */\n",
       "\n",
       "#sk-container-id-1 div.sk-toggleable__content {\n",
       "  max-height: 0;\n",
       "  max-width: 0;\n",
       "  overflow: hidden;\n",
       "  text-align: left;\n",
       "  /* unfitted */\n",
       "  background-color: var(--sklearn-color-unfitted-level-0);\n",
       "}\n",
       "\n",
       "#sk-container-id-1 div.sk-toggleable__content.fitted {\n",
       "  /* fitted */\n",
       "  background-color: var(--sklearn-color-fitted-level-0);\n",
       "}\n",
       "\n",
       "#sk-container-id-1 div.sk-toggleable__content pre {\n",
       "  margin: 0.2em;\n",
       "  border-radius: 0.25em;\n",
       "  color: var(--sklearn-color-text);\n",
       "  /* unfitted */\n",
       "  background-color: var(--sklearn-color-unfitted-level-0);\n",
       "}\n",
       "\n",
       "#sk-container-id-1 div.sk-toggleable__content.fitted pre {\n",
       "  /* unfitted */\n",
       "  background-color: var(--sklearn-color-fitted-level-0);\n",
       "}\n",
       "\n",
       "#sk-container-id-1 input.sk-toggleable__control:checked~div.sk-toggleable__content {\n",
       "  /* Expand drop-down */\n",
       "  max-height: 200px;\n",
       "  max-width: 100%;\n",
       "  overflow: auto;\n",
       "}\n",
       "\n",
       "#sk-container-id-1 input.sk-toggleable__control:checked~label.sk-toggleable__label-arrow:before {\n",
       "  content: \"▾\";\n",
       "}\n",
       "\n",
       "/* Pipeline/ColumnTransformer-specific style */\n",
       "\n",
       "#sk-container-id-1 div.sk-label input.sk-toggleable__control:checked~label.sk-toggleable__label {\n",
       "  color: var(--sklearn-color-text);\n",
       "  background-color: var(--sklearn-color-unfitted-level-2);\n",
       "}\n",
       "\n",
       "#sk-container-id-1 div.sk-label.fitted input.sk-toggleable__control:checked~label.sk-toggleable__label {\n",
       "  background-color: var(--sklearn-color-fitted-level-2);\n",
       "}\n",
       "\n",
       "/* Estimator-specific style */\n",
       "\n",
       "/* Colorize estimator box */\n",
       "#sk-container-id-1 div.sk-estimator input.sk-toggleable__control:checked~label.sk-toggleable__label {\n",
       "  /* unfitted */\n",
       "  background-color: var(--sklearn-color-unfitted-level-2);\n",
       "}\n",
       "\n",
       "#sk-container-id-1 div.sk-estimator.fitted input.sk-toggleable__control:checked~label.sk-toggleable__label {\n",
       "  /* fitted */\n",
       "  background-color: var(--sklearn-color-fitted-level-2);\n",
       "}\n",
       "\n",
       "#sk-container-id-1 div.sk-label label.sk-toggleable__label,\n",
       "#sk-container-id-1 div.sk-label label {\n",
       "  /* The background is the default theme color */\n",
       "  color: var(--sklearn-color-text-on-default-background);\n",
       "}\n",
       "\n",
       "/* On hover, darken the color of the background */\n",
       "#sk-container-id-1 div.sk-label:hover label.sk-toggleable__label {\n",
       "  color: var(--sklearn-color-text);\n",
       "  background-color: var(--sklearn-color-unfitted-level-2);\n",
       "}\n",
       "\n",
       "/* Label box, darken color on hover, fitted */\n",
       "#sk-container-id-1 div.sk-label.fitted:hover label.sk-toggleable__label.fitted {\n",
       "  color: var(--sklearn-color-text);\n",
       "  background-color: var(--sklearn-color-fitted-level-2);\n",
       "}\n",
       "\n",
       "/* Estimator label */\n",
       "\n",
       "#sk-container-id-1 div.sk-label label {\n",
       "  font-family: monospace;\n",
       "  font-weight: bold;\n",
       "  display: inline-block;\n",
       "  line-height: 1.2em;\n",
       "}\n",
       "\n",
       "#sk-container-id-1 div.sk-label-container {\n",
       "  text-align: center;\n",
       "}\n",
       "\n",
       "/* Estimator-specific */\n",
       "#sk-container-id-1 div.sk-estimator {\n",
       "  font-family: monospace;\n",
       "  border: 1px dotted var(--sklearn-color-border-box);\n",
       "  border-radius: 0.25em;\n",
       "  box-sizing: border-box;\n",
       "  margin-bottom: 0.5em;\n",
       "  /* unfitted */\n",
       "  background-color: var(--sklearn-color-unfitted-level-0);\n",
       "}\n",
       "\n",
       "#sk-container-id-1 div.sk-estimator.fitted {\n",
       "  /* fitted */\n",
       "  background-color: var(--sklearn-color-fitted-level-0);\n",
       "}\n",
       "\n",
       "/* on hover */\n",
       "#sk-container-id-1 div.sk-estimator:hover {\n",
       "  /* unfitted */\n",
       "  background-color: var(--sklearn-color-unfitted-level-2);\n",
       "}\n",
       "\n",
       "#sk-container-id-1 div.sk-estimator.fitted:hover {\n",
       "  /* fitted */\n",
       "  background-color: var(--sklearn-color-fitted-level-2);\n",
       "}\n",
       "\n",
       "/* Specification for estimator info (e.g. \"i\" and \"?\") */\n",
       "\n",
       "/* Common style for \"i\" and \"?\" */\n",
       "\n",
       ".sk-estimator-doc-link,\n",
       "a:link.sk-estimator-doc-link,\n",
       "a:visited.sk-estimator-doc-link {\n",
       "  float: right;\n",
       "  font-size: smaller;\n",
       "  line-height: 1em;\n",
       "  font-family: monospace;\n",
       "  background-color: var(--sklearn-color-background);\n",
       "  border-radius: 1em;\n",
       "  height: 1em;\n",
       "  width: 1em;\n",
       "  text-decoration: none !important;\n",
       "  margin-left: 1ex;\n",
       "  /* unfitted */\n",
       "  border: var(--sklearn-color-unfitted-level-1) 1pt solid;\n",
       "  color: var(--sklearn-color-unfitted-level-1);\n",
       "}\n",
       "\n",
       ".sk-estimator-doc-link.fitted,\n",
       "a:link.sk-estimator-doc-link.fitted,\n",
       "a:visited.sk-estimator-doc-link.fitted {\n",
       "  /* fitted */\n",
       "  border: var(--sklearn-color-fitted-level-1) 1pt solid;\n",
       "  color: var(--sklearn-color-fitted-level-1);\n",
       "}\n",
       "\n",
       "/* On hover */\n",
       "div.sk-estimator:hover .sk-estimator-doc-link:hover,\n",
       ".sk-estimator-doc-link:hover,\n",
       "div.sk-label-container:hover .sk-estimator-doc-link:hover,\n",
       ".sk-estimator-doc-link:hover {\n",
       "  /* unfitted */\n",
       "  background-color: var(--sklearn-color-unfitted-level-3);\n",
       "  color: var(--sklearn-color-background);\n",
       "  text-decoration: none;\n",
       "}\n",
       "\n",
       "div.sk-estimator.fitted:hover .sk-estimator-doc-link.fitted:hover,\n",
       ".sk-estimator-doc-link.fitted:hover,\n",
       "div.sk-label-container:hover .sk-estimator-doc-link.fitted:hover,\n",
       ".sk-estimator-doc-link.fitted:hover {\n",
       "  /* fitted */\n",
       "  background-color: var(--sklearn-color-fitted-level-3);\n",
       "  color: var(--sklearn-color-background);\n",
       "  text-decoration: none;\n",
       "}\n",
       "\n",
       "/* Span, style for the box shown on hovering the info icon */\n",
       ".sk-estimator-doc-link span {\n",
       "  display: none;\n",
       "  z-index: 9999;\n",
       "  position: relative;\n",
       "  font-weight: normal;\n",
       "  right: .2ex;\n",
       "  padding: .5ex;\n",
       "  margin: .5ex;\n",
       "  width: min-content;\n",
       "  min-width: 20ex;\n",
       "  max-width: 50ex;\n",
       "  color: var(--sklearn-color-text);\n",
       "  box-shadow: 2pt 2pt 4pt #999;\n",
       "  /* unfitted */\n",
       "  background: var(--sklearn-color-unfitted-level-0);\n",
       "  border: .5pt solid var(--sklearn-color-unfitted-level-3);\n",
       "}\n",
       "\n",
       ".sk-estimator-doc-link.fitted span {\n",
       "  /* fitted */\n",
       "  background: var(--sklearn-color-fitted-level-0);\n",
       "  border: var(--sklearn-color-fitted-level-3);\n",
       "}\n",
       "\n",
       ".sk-estimator-doc-link:hover span {\n",
       "  display: block;\n",
       "}\n",
       "\n",
       "/* \"?\"-specific style due to the `<a>` HTML tag */\n",
       "\n",
       "#sk-container-id-1 a.estimator_doc_link {\n",
       "  float: right;\n",
       "  font-size: 1rem;\n",
       "  line-height: 1em;\n",
       "  font-family: monospace;\n",
       "  background-color: var(--sklearn-color-background);\n",
       "  border-radius: 1rem;\n",
       "  height: 1rem;\n",
       "  width: 1rem;\n",
       "  text-decoration: none;\n",
       "  /* unfitted */\n",
       "  color: var(--sklearn-color-unfitted-level-1);\n",
       "  border: var(--sklearn-color-unfitted-level-1) 1pt solid;\n",
       "}\n",
       "\n",
       "#sk-container-id-1 a.estimator_doc_link.fitted {\n",
       "  /* fitted */\n",
       "  border: var(--sklearn-color-fitted-level-1) 1pt solid;\n",
       "  color: var(--sklearn-color-fitted-level-1);\n",
       "}\n",
       "\n",
       "/* On hover */\n",
       "#sk-container-id-1 a.estimator_doc_link:hover {\n",
       "  /* unfitted */\n",
       "  background-color: var(--sklearn-color-unfitted-level-3);\n",
       "  color: var(--sklearn-color-background);\n",
       "  text-decoration: none;\n",
       "}\n",
       "\n",
       "#sk-container-id-1 a.estimator_doc_link.fitted:hover {\n",
       "  /* fitted */\n",
       "  background-color: var(--sklearn-color-fitted-level-3);\n",
       "}\n",
       "</style><div id=\"sk-container-id-1\" class=\"sk-top-container\"><div class=\"sk-text-repr-fallback\"><pre>AdaBoostRegressor(estimator=DecisionTreeRegressor(max_depth=1), random_state=42)</pre><b>In a Jupyter environment, please rerun this cell to show the HTML representation or trust the notebook. <br />On GitHub, the HTML representation is unable to render, please try loading this page with nbviewer.org.</b></div><div class=\"sk-container\" hidden><div class=\"sk-item sk-dashed-wrapped\"><div class=\"sk-label-container\"><div class=\"sk-label fitted sk-toggleable\"><input class=\"sk-toggleable__control sk-hidden--visually\" id=\"sk-estimator-id-1\" type=\"checkbox\" ><label for=\"sk-estimator-id-1\" class=\"sk-toggleable__label fitted sk-toggleable__label-arrow fitted\">&nbsp;&nbsp;AdaBoostRegressor<a class=\"sk-estimator-doc-link fitted\" rel=\"noreferrer\" target=\"_blank\" href=\"https://scikit-learn.org/1.4/modules/generated/sklearn.ensemble.AdaBoostRegressor.html\">?<span>Documentation for AdaBoostRegressor</span></a><span class=\"sk-estimator-doc-link fitted\">i<span>Fitted</span></span></label><div class=\"sk-toggleable__content fitted\"><pre>AdaBoostRegressor(estimator=DecisionTreeRegressor(max_depth=1), random_state=42)</pre></div> </div></div><div class=\"sk-parallel\"><div class=\"sk-parallel-item\"><div class=\"sk-item\"><div class=\"sk-label-container\"><div class=\"sk-label fitted sk-toggleable\"><input class=\"sk-toggleable__control sk-hidden--visually\" id=\"sk-estimator-id-2\" type=\"checkbox\" ><label for=\"sk-estimator-id-2\" class=\"sk-toggleable__label fitted sk-toggleable__label-arrow fitted\">estimator: DecisionTreeRegressor</label><div class=\"sk-toggleable__content fitted\"><pre>DecisionTreeRegressor(max_depth=1)</pre></div> </div></div><div class=\"sk-serial\"><div class=\"sk-item\"><div class=\"sk-estimator fitted sk-toggleable\"><input class=\"sk-toggleable__control sk-hidden--visually\" id=\"sk-estimator-id-3\" type=\"checkbox\" ><label for=\"sk-estimator-id-3\" class=\"sk-toggleable__label fitted sk-toggleable__label-arrow fitted\">&nbsp;DecisionTreeRegressor<a class=\"sk-estimator-doc-link fitted\" rel=\"noreferrer\" target=\"_blank\" href=\"https://scikit-learn.org/1.4/modules/generated/sklearn.tree.DecisionTreeRegressor.html\">?<span>Documentation for DecisionTreeRegressor</span></a></label><div class=\"sk-toggleable__content fitted\"><pre>DecisionTreeRegressor(max_depth=1)</pre></div> </div></div></div></div></div></div></div></div></div>"
      ],
      "text/plain": [
       "AdaBoostRegressor(estimator=DecisionTreeRegressor(max_depth=1), random_state=42)"
      ]
     },
     "execution_count": 13,
     "metadata": {},
     "output_type": "execute_result"
    }
   ],
   "source": [
    "# Entrenar el modelo AdaBoost\n",
    "ada_boost_reg.fit(X_train, y_train)"
   ]
  },
  {
   "cell_type": "code",
   "execution_count": 14,
   "id": "2bbf6853",
   "metadata": {},
   "outputs": [],
   "source": [
    "# Realizar predicciones con el modelo entrenado\n",
    "predictions = ada_boost_reg.predict(X_test)"
   ]
  },
  {
   "cell_type": "code",
   "execution_count": 15,
   "id": "1ce7ec51",
   "metadata": {},
   "outputs": [
    {
     "name": "stdout",
     "output_type": "stream",
     "text": [
      "Mean Squared Error of AdaBoost Regressor: 223941293.98\n"
     ]
    }
   ],
   "source": [
    "# Evaluar la precisión del modelo\n",
    "mse = mean_squared_error(y_test, predictions)\n",
    "print(f'Mean Squared Error of AdaBoost Regressor: {mse:.2f}')"
   ]
  },
  {
   "cell_type": "code",
   "execution_count": 16,
   "id": "7c114cd2",
   "metadata": {},
   "outputs": [
    {
     "name": "stdout",
     "output_type": "stream",
     "text": [
      "R2: 0.437960160091483\n",
      "RMSE: 14964.668188105248\n",
      "MSE: 223941293.9800892\n"
     ]
    },
    {
     "data": {
      "text/plain": [
       "(None, None, None)"
      ]
     },
     "execution_count": 16,
     "metadata": {},
     "output_type": "execute_result"
    }
   ],
   "source": [
    "# resultado de R2, RMSE y MSE\n",
    "R2_RMSE(y_test, predictions)"
   ]
  },
  {
   "cell_type": "markdown",
   "id": "b67fde76",
   "metadata": {},
   "source": [
    "## _4 Optimización del Modelo (I)_ "
   ]
  },
  {
   "cell_type": "markdown",
   "id": "04f044b0",
   "metadata": {},
   "source": [
    "### _4.1 Selección de Variables_"
   ]
  },
  {
   "cell_type": "markdown",
   "id": "715bd6e5",
   "metadata": {},
   "source": [
    "#### _4.1.1 Utilizando Lasso_"
   ]
  },
  {
   "cell_type": "code",
   "execution_count": 17,
   "id": "55e96da8",
   "metadata": {},
   "outputs": [
    {
     "ename": "NameError",
     "evalue": "name 'LassoCV' is not defined",
     "output_type": "error",
     "traceback": [
      "\u001b[0;31m---------------------------------------------------------------------------\u001b[0m",
      "\u001b[0;31mNameError\u001b[0m                                 Traceback (most recent call last)",
      "Cell \u001b[0;32mIn[17], line 5\u001b[0m\n\u001b[1;32m      2\u001b[0m alpha_values \u001b[38;5;241m=\u001b[39m np\u001b[38;5;241m.\u001b[39mlinspace(\u001b[38;5;241m0.01\u001b[39m, \u001b[38;5;241m300\u001b[39m, \u001b[38;5;241m30000\u001b[39m)\n\u001b[1;32m      4\u001b[0m \u001b[38;5;66;03m# Crea un objeto LassoCV\u001b[39;00m\n\u001b[0;32m----> 5\u001b[0m lasso_cv \u001b[38;5;241m=\u001b[39m \u001b[43mLassoCV\u001b[49m(alphas\u001b[38;5;241m=\u001b[39malpha_values, cv\u001b[38;5;241m=\u001b[39m\u001b[38;5;241m5\u001b[39m)\n\u001b[1;32m      7\u001b[0m \u001b[38;5;66;03m# Ajusta el modelo a los datos de entrenamiento\u001b[39;00m\n\u001b[1;32m      8\u001b[0m lasso_cv\u001b[38;5;241m.\u001b[39mfit(X_train, y_train)\n",
      "\u001b[0;31mNameError\u001b[0m: name 'LassoCV' is not defined"
     ]
    }
   ],
   "source": [
    "# buscamos alpha optimo con LassoCV\n",
    "alpha_values = np.linspace(0.01, 300, 30000)\n",
    "\n",
    "# Crea un objeto LassoCV\n",
    "lasso_cv = LassoCV(alphas=alpha_values, cv=5)\n",
    "\n",
    "# Ajusta el modelo a los datos de entrenamiento\n",
    "lasso_cv.fit(X_train, y_train)\n",
    "\n",
    "# Valor óptimo de alpha\n",
    "best_alpha = lasso_cv.alpha_\n",
    "\n",
    "# Evalúa el modelo en el conjunto de prueba\n",
    "score = lasso_cv.score(X_test, y_test)\n",
    "\n",
    "print(f\"Mejor valor de alpha: {best_alpha}\")\n",
    "print(f\"Puntuación en el conjunto de prueba: {score}\")"
   ]
  },
  {
   "cell_type": "code",
   "execution_count": null,
   "id": "5df2a6a5",
   "metadata": {},
   "outputs": [],
   "source": [
    "# Graficar MSE vs. Alpha\n",
    "plt.figure(figsize=(10,6))\n",
    "plt.plot(lasso_cv.alphas_, np.mean(lasso_cv.mse_path_, axis=1), '-o')\n",
    "plt.xlabel('Alpha')\n",
    "plt.ylabel('Mean MSE across CV folds')\n",
    "plt.title('Path de Regularización')\n",
    "plt.axvline(lasso_cv.alpha_, color='red', linestyle='--')\n",
    "\n",
    "# Anotar el valor óptimo de alpha en el gráfico\n",
    "plt.annotate(f'Optimal alpha: {lasso_cv.alpha_:.2f}, MSE: {np.min(np.mean(lasso_cv.mse_path_, axis=1)):.2f}',\n",
    "             xy=(lasso_cv.alpha_, np.min(np.mean(lasso_cv.mse_path_, axis=1))),\n",
    "             xycoords='data', xytext=(10,100), \n",
    "             textcoords='offset points',\n",
    "             arrowprops=dict(arrowstyle=\"->\", lw=1.5),\n",
    "             fontsize=9)\n",
    "\n",
    "plt.show()"
   ]
  },
  {
   "cell_type": "code",
   "execution_count": null,
   "id": "35fb1582",
   "metadata": {},
   "outputs": [],
   "source": [
    "# Aplicar Lasso para la selección de características\n",
    "lasso = Lasso(alpha=lasso_cv.alpha_)  \n",
    "lasso.fit(X_train, y_train)\n",
    "\n",
    "# Seleccionar las características que tienen coeficientes no nulos\n",
    "selected_features = X_train.columns[lasso.coef_ != 0]\n",
    "\n",
    "print(\"Características seleccionadas:\")\n",
    "print(selected_features)\n"
   ]
  },
  {
   "cell_type": "code",
   "execution_count": null,
   "id": "cc92df0a",
   "metadata": {},
   "outputs": [],
   "source": [
    "len(selected_features)"
   ]
  },
  {
   "cell_type": "markdown",
   "id": "275fe507",
   "metadata": {},
   "source": [
    "> Volvemos ajustar el modelo con las variables seleccionadas"
   ]
  },
  {
   "cell_type": "code",
   "execution_count": null,
   "id": "a62a5ab6",
   "metadata": {},
   "outputs": [],
   "source": [
    "# separamos los datos en train y test\n",
    "X_lasso= df[selected_features]\n",
    "y_lasso = df['pay_original']\n",
    "\n",
    "# dividimos los datos en train y test\n",
    "X_train_lasso, X_test_lasso, y_train_lasso, y_test_lasso = train_test_split(X_lasso, y_lasso, test_size=test_size, random_state=42)"
   ]
  },
  {
   "cell_type": "code",
   "execution_count": null,
   "id": "d44f7376",
   "metadata": {},
   "outputs": [],
   "source": [
    "# aplicamos la función de regresión lineal\n",
    "lm_lasso = regresion_lineal(X_train_lasso, X_test_lasso, y_train_lasso, y_test_lasso)"
   ]
  },
  {
   "cell_type": "code",
   "execution_count": null,
   "id": "23ca1a13",
   "metadata": {},
   "outputs": [],
   "source": [
    "# sumario del modelo\n",
    "ls = summary_regresion_lineal(X_train_lasso, y_train_lasso)"
   ]
  },
  {
   "cell_type": "code",
   "execution_count": null,
   "metadata": {},
   "outputs": [],
   "source": [
    "test_predictions = lm_lasso.predict(X_test_lasso)\n",
    "test_results = pd.DataFrame(data={'Test Predictions':test_predictions, 'Actuals':y_test_lasso}).sort_index()\n",
    "test_results"
   ]
  },
  {
   "cell_type": "code",
   "execution_count": null,
   "metadata": {},
   "outputs": [],
   "source": [
    "plt.figure(figsize=(15,6))\n",
    "plt.plot(test_results['Test Predictions'])\n",
    "plt.plot(test_results['Actuals'])\n",
    "\n",
    "plt.title('Test Predictions vs Actuals (SimpleRNN)')\n",
    "plt.legend(['Test Predictions', 'Actuals'])\n",
    "plt.show()"
   ]
  },
  {
   "cell_type": "code",
   "execution_count": null,
   "metadata": {},
   "outputs": [],
   "source": [
    "# Obtener los coeficientes del modelo Lasso\n",
    "lasso_coef = lm_lasso.coef_\n",
    "\n",
    "# Crear un DataFrame con las características y sus coeficientes\n",
    "feature_importance = pd.DataFrame({'features': X_train_lasso.columns, 'importance': lasso_coef})\n",
    "\n",
    "# Filtrar para mantener solo las características con coeficientes no nulos\n",
    "feature_importance = feature_importance[feature_importance['importance'] != 0]\n",
    "\n",
    "# Ordenar las características por importancia\n",
    "feature_importance = feature_importance.sort_values(by='importance', ascending=True)\n",
    "\n",
    "# Crear un gráfico de barras horizontales\n",
    "plt.figure(figsize=(10, 8))\n",
    "plt.barh(feature_importance['features'], feature_importance['importance'])\n",
    "plt.xlabel('Importancia')\n",
    "plt.ylabel('Características')\n",
    "plt.title('Importancia de las Características seleccionadas por Lasso')\n",
    "plt.show()"
   ]
  },
  {
   "cell_type": "markdown",
   "id": "70c3f5a4",
   "metadata": {},
   "source": [
    "### _4.2 Residuos_"
   ]
  },
  {
   "cell_type": "markdown",
   "id": "637708b6",
   "metadata": {},
   "source": [
    "#### _4.2.1 En Conjunto Entrenamiento_"
   ]
  },
  {
   "cell_type": "markdown",
   "id": "0cdb74f6",
   "metadata": {},
   "source": [
    "> Nos quedamos con la selección de variables obtenidas en Lasso."
   ]
  },
  {
   "cell_type": "code",
   "execution_count": null,
   "id": "f349bc61",
   "metadata": {},
   "outputs": [],
   "source": [
    "# separamos los datos en X e y para las variables seleccionadas\n",
    "X = df[X_train_lasso.columns]\n",
    "y = df['pay_original']\n",
    "\n",
    "# separamos los datos en train y test\n",
    "X_train, X_test, y_train, y_test = train_test_split(X, y, test_size=test_size, random_state=42)"
   ]
  },
  {
   "cell_type": "code",
   "execution_count": null,
   "id": "d6accae2",
   "metadata": {},
   "outputs": [],
   "source": [
    "# iniciamos el modelo\n",
    "lr = LinearRegression()\n",
    "\n",
    "# ajustamos el modelo\n",
    "lr.fit(X_train, y_train)"
   ]
  },
  {
   "cell_type": "code",
   "execution_count": null,
   "id": "059469b6",
   "metadata": {},
   "outputs": [],
   "source": [
    "# predicción conjunto entrenamiento y residuales\n",
    "y_pred_train = lr.predict(X_train)\n",
    "residual_train = y_train - y_pred_train\n",
    "\n",
    "# ordenamos los datos\n",
    "residual_train_order = residual_train.sort_index()\n",
    "X_train_order = X_train.sort_index()"
   ]
  },
  {
   "cell_type": "code",
   "execution_count": null,
   "id": "e6ba2e0e",
   "metadata": {},
   "outputs": [],
   "source": [
    "# graficamos los residuales\n",
    "plt.scatter(y_pred_train, residual_train)\n",
    "plt.ylabel('Residuals')\n",
    "plt.xlabel('Predicted values')\n",
    "\n",
    "# graficamos la linea de tendencia\n",
    "coefficients = np.polyfit(y_pred_train, residual_train, 1)\n",
    "line = np.polyval(coefficients, y_pred_train)\n",
    "plt.plot(y_pred_train, line, color='red', label='Tendencia cuadrática')"
   ]
  },
  {
   "cell_type": "code",
   "execution_count": null,
   "id": "fc3b955c",
   "metadata": {},
   "outputs": [],
   "source": [
    "# grafaica de los residuos vs el tiempo \n",
    "plt.figure(figsize=(80,10))\n",
    "plt.plot(X_train_order.index, residual_train_order)\n",
    "\n",
    "plt.show()"
   ]
  },
  {
   "cell_type": "markdown",
   "id": "914d4f9e",
   "metadata": {},
   "source": [
    "#### _4.2.2 En Conjunto Test_"
   ]
  },
  {
   "cell_type": "code",
   "execution_count": null,
   "id": "308c627a",
   "metadata": {},
   "outputs": [],
   "source": [
    "# predicción conjunto entrenamiento y residuales\n",
    "y_pred_test = lr.predict(X_test)\n",
    "residual_test = y_test - y_pred_test\n",
    "\n",
    "# ordenamos los datos\n",
    "residual_test_order = residual_test.sort_index()\n",
    "X_test_order = X_test.sort_index()"
   ]
  },
  {
   "cell_type": "code",
   "execution_count": null,
   "id": "abde1701",
   "metadata": {},
   "outputs": [],
   "source": [
    "# gráfica de los residuos\n",
    "residuals = y_test - y_pred_test\n",
    "plt.scatter(y_pred_test, residuals)\n",
    "plt.ylabel('Residuals')\n",
    "plt.xlabel('Predicted values')\n",
    "\n",
    "# graficamos la linea de tendencia\n",
    "coefficients = np.polyfit(y_pred_test, residuals, 1)\n",
    "line = np.polyval(coefficients, y_pred_test)\n",
    "plt.plot(y_pred_test, line, color='red', label='Tendencia cuadrática')\n"
   ]
  },
  {
   "cell_type": "code",
   "execution_count": null,
   "id": "9e2ef622",
   "metadata": {},
   "outputs": [],
   "source": [
    "# ordenamos los residuos por indice de menor a mayor\n",
    "residual_order = residuals.sort_index()\n",
    "X_order = X_test.sort_index()"
   ]
  },
  {
   "cell_type": "code",
   "execution_count": null,
   "id": "e8b943c4",
   "metadata": {},
   "outputs": [],
   "source": [
    "# grafaica de los residuos vs el tiempo \n",
    "plt.figure(figsize=(80,10))\n",
    "plt.plot(X_order.index, residual_order)"
   ]
  },
  {
   "cell_type": "markdown",
   "id": "96f85cbf",
   "metadata": {},
   "source": [
    "### _4.3 Heteroscedasticidad - Logaritmo Variable Objetivo_"
   ]
  },
  {
   "cell_type": "markdown",
   "id": "20754ecc",
   "metadata": {},
   "source": [
    "> Quitamos un 'material_tonnage' que es 0 (revisar después del despeje de los outliers)"
   ]
  },
  {
   "cell_type": "code",
   "execution_count": null,
   "id": "c64ad5f8",
   "metadata": {},
   "outputs": [],
   "source": [
    "# separamos los datos en train y test\n",
    "X = df[X_train_lasso.columns]\n",
    "y = np.log(df['pay_original'])\n",
    "\n",
    "# separamos los datos en train y test\n",
    "X_train, X_test, y_train, y_test = train_test_split(X, y, test_size=test_size, random_state=42)"
   ]
  },
  {
   "cell_type": "code",
   "execution_count": null,
   "id": "69365932",
   "metadata": {},
   "outputs": [],
   "source": [
    "# aplicamos la función de regresión lineal\n",
    "lm_log = regresion_lineal(X_train, X_test, y_train, y_test)"
   ]
  },
  {
   "cell_type": "code",
   "execution_count": null,
   "id": "cf7bec41",
   "metadata": {},
   "outputs": [],
   "source": [
    "# calculamos el valor inverso de la transformación logaritmica para RMSE y MSE\n",
    "RMSE = np.sqrt(mean_squared_error(np.exp(y_test), np.exp(lm_log.predict(X_test))))\n",
    "MSE = mean_squared_error(np.exp(y_test), np.exp(lm_log.predict(X_test)))\n",
    "RMSE, MSE"
   ]
  },
  {
   "cell_type": "code",
   "execution_count": null,
   "id": "6245b201",
   "metadata": {},
   "outputs": [],
   "source": [
    "# sumario del modelo\n",
    "summary_regresion_lineal(X_train, y_train)"
   ]
  },
  {
   "cell_type": "markdown",
   "id": "5e3bfd16",
   "metadata": {},
   "source": [
    "## _5 Optimización del Modelo (II)_ "
   ]
  },
  {
   "cell_type": "code",
   "execution_count": null,
   "id": "473a4d0c",
   "metadata": {},
   "outputs": [],
   "source": [
    "# generamos un nuevo dataframe con las variables seleccionadas\n",
    "df_int = pd.concat([df[X_train_lasso.columns],df['pay_original']], axis=1).copy()\n",
    "df_int"
   ]
  },
  {
   "cell_type": "markdown",
   "id": "a13ab474",
   "metadata": {},
   "source": [
    "### _5.1 Interacción 'payload_des' por 'distance'_"
   ]
  },
  {
   "cell_type": "code",
   "execution_count": null,
   "id": "278b782a",
   "metadata": {},
   "outputs": [],
   "source": [
    "# creamos la nueva variable\n",
    "df_int['pay_des_distance'] = df_int['payload_des'] * df_int['distance']\n",
    "df_int['pay_des_distance']"
   ]
  },
  {
   "cell_type": "code",
   "execution_count": null,
   "id": "c7d1a8b9",
   "metadata": {},
   "outputs": [],
   "source": [
    "# separamos los datos en X e y\n",
    "X_int1 = df_int.drop('pay_original', axis=1)\n",
    "y_int1 = df_int['pay_original']\n",
    "\n",
    "# dividimos los datos en train y test\n",
    "X_train_int1, X_test_int1, y_train_int1, y_test_int1 = train_test_split(X_int1, y_int1, test_size=test_size, random_state=42)"
   ]
  },
  {
   "cell_type": "code",
   "execution_count": null,
   "id": "ff0193d0",
   "metadata": {},
   "outputs": [],
   "source": [
    "# aplicamos la función de regresión lineal\n",
    "lm_int1 = regresion_lineal(X_train_int1, X_test_int1, y_train_int1, y_test_int1)"
   ]
  },
  {
   "cell_type": "code",
   "execution_count": null,
   "id": "3d1fd077",
   "metadata": {},
   "outputs": [],
   "source": [
    "# sumario del modelo\n",
    "summary_regresion_lineal(X_train_int1, y_train_int1)"
   ]
  },
  {
   "cell_type": "markdown",
   "id": "487b942a",
   "metadata": {},
   "source": [
    "### _5.2 Interacción 'payload_des' por 'expected_time_des'_"
   ]
  },
  {
   "cell_type": "code",
   "execution_count": null,
   "id": "6a40e16e",
   "metadata": {},
   "outputs": [],
   "source": [
    "# creamos la nueva variable\n",
    "df_int['pay_des_exp_time_des'] = df_int['payload_des'] * df_int['expected_time_des']\n",
    "df_int['pay_des_exp_time_des']"
   ]
  },
  {
   "cell_type": "code",
   "execution_count": null,
   "id": "2cc7ca2b",
   "metadata": {},
   "outputs": [],
   "source": [
    "# separamos los datos en X e y\n",
    "X_int2 = df_int.drop('pay_original', axis=1)\n",
    "y_int2 = df_int['pay_original']\n",
    "\n",
    "# dividimos los datos en train y test\n",
    "X_train_int2, X_test_int2, y_train_int2, y_test_int2 = train_test_split(X_int2, y_int2, test_size=test_size, random_state=42)"
   ]
  },
  {
   "cell_type": "code",
   "execution_count": null,
   "id": "4fca31c9",
   "metadata": {},
   "outputs": [],
   "source": [
    "# aplicamos la función de regresión lineal\n",
    "lm_int2 = regresion_lineal(X_train_int2, X_test_int2, y_train_int2, y_test_int2)"
   ]
  },
  {
   "cell_type": "code",
   "execution_count": null,
   "id": "7a718a54",
   "metadata": {},
   "outputs": [],
   "source": [
    "# sumario del modelo\n",
    "summary_regresion_lineal(X_train_int2, y_train_int2)"
   ]
  },
  {
   "cell_type": "markdown",
   "id": "6d090f7c",
   "metadata": {},
   "source": []
  },
  {
   "cell_type": "markdown",
   "id": "991efd2d",
   "metadata": {},
   "source": [
    "### _5.3 Interacción 'payload_des' por 'CAT 797-F_des'_"
   ]
  },
  {
   "cell_type": "code",
   "execution_count": null,
   "id": "350b29b9",
   "metadata": {},
   "outputs": [],
   "source": [
    "# creamos la nueva variable\n",
    "df_int['pay_des_CAT_des'] = df_int['payload_des'] * df_int['CAT 797-F_des']\n",
    "df_int['pay_des_CAT_des']"
   ]
  },
  {
   "cell_type": "code",
   "execution_count": null,
   "id": "61b7e283",
   "metadata": {},
   "outputs": [],
   "source": [
    "# separamos los datos en X e y\n",
    "X_int3 = df_int.drop('pay_original', axis=1)\n",
    "y_int3 = df_int['pay_original']\n",
    "\n",
    "# dividimos los datos en train y test\n",
    "X_train_int3, X_test_int3, y_train_int3, y_test_int3 = train_test_split(X_int3, y_int3, test_size=test_size, random_state=42)"
   ]
  },
  {
   "cell_type": "code",
   "execution_count": null,
   "id": "8c8f6e6f",
   "metadata": {},
   "outputs": [],
   "source": [
    "# aplicamos la función de regresión lineal\n",
    "lm_int3 = regresion_lineal(X_train_int3, X_test_int3, y_train_int3, y_test_int3)"
   ]
  },
  {
   "cell_type": "code",
   "execution_count": null,
   "id": "2b0cf9c7",
   "metadata": {},
   "outputs": [],
   "source": [
    "# sumario del modelo\n",
    "summary_regresion_lineal(X_train_int3, y_train_int3)"
   ]
  },
  {
   "cell_type": "code",
   "execution_count": null,
   "id": "fbc37435",
   "metadata": {},
   "outputs": [],
   "source": [
    "# graficamos 'payload_original' vs 'lift_down'\n",
    "sns.scatterplot(x='pay_des_distance', y='pay_original', data=df_int, alpha=0.5, color='gray')\n",
    "\n",
    "sns.despine()\n",
    "plt.title('Payload Original vs pay_des_distance') \n",
    "plt.gca().yaxis.set_major_formatter(EngFormatter())\n",
    "plt.show()"
   ]
  }
 ],
 "metadata": {
  "kernelspec": {
   "display_name": "tf2",
   "language": "python",
   "name": "python3"
  },
  "language_info": {
   "codemirror_mode": {
    "name": "ipython",
    "version": 3
   },
   "file_extension": ".py",
   "mimetype": "text/x-python",
   "name": "python",
   "nbconvert_exporter": "python",
   "pygments_lexer": "ipython3",
   "version": "3.12.3"
  }
 },
 "nbformat": 4,
 "nbformat_minor": 5
}
