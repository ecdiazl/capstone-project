{
 "cells": [
  {
   "cell_type": "markdown",
   "id": "e4144d28",
   "metadata": {},
   "source": [
    "## **Capstone MDS - ADABoost**"
   ]
  },
  {
   "cell_type": "markdown",
   "id": "cb678893",
   "metadata": {},
   "source": [
    "#### **_Integrantes:_**  \n",
    "\n",
    "1. Evans Díaz   \n",
    "1. Felipe Ojeda\n",
    "1. Javier Cofre  \n",
    "1. Luis Reinoso"
   ]
  },
  {
   "cell_type": "code",
   "execution_count": 2,
   "id": "c0ff10da",
   "metadata": {},
   "outputs": [],
   "source": [
    "# importar librerías\n",
    "%matplotlib inline\n",
    "\n",
    "import pandas as pd\n",
    "import numpy as np\n",
    "import matplotlib.pyplot as plt\n",
    "import matplotlib.ticker as ticker\n",
    "import matplotlib.dates as mdates\n",
    "import seaborn as sns"
   ]
  },
  {
   "cell_type": "markdown",
   "id": "44b27c84",
   "metadata": {},
   "source": [
    "## **_1. Lectura (carga) de los Datos_**"
   ]
  },
  {
   "cell_type": "code",
   "execution_count": 3,
   "id": "208757c1",
   "metadata": {},
   "outputs": [],
   "source": [
    "# importamos archivo\n",
    "df = pd.read_csv('../Data/df_final_pay_time.csv')"
   ]
  },
  {
   "cell_type": "code",
   "execution_count": 4,
   "id": "2fcb817d",
   "metadata": {},
   "outputs": [
    {
     "data": {
      "text/html": [
       "<div>\n",
       "<style scoped>\n",
       "    .dataframe tbody tr th:only-of-type {\n",
       "        vertical-align: middle;\n",
       "    }\n",
       "\n",
       "    .dataframe tbody tr th {\n",
       "        vertical-align: top;\n",
       "    }\n",
       "\n",
       "    .dataframe thead th {\n",
       "        text-align: right;\n",
       "    }\n",
       "</style>\n",
       "<table border=\"1\" class=\"dataframe\">\n",
       "  <thead>\n",
       "    <tr style=\"text-align: right;\">\n",
       "      <th></th>\n",
       "      <th>year</th>\n",
       "      <th>month</th>\n",
       "      <th>day</th>\n",
       "      <th>shift</th>\n",
       "      <th>crew</th>\n",
       "      <th>total</th>\n",
       "      <th>efectivo</th>\n",
       "      <th>mantencion</th>\n",
       "      <th>mecanica</th>\n",
       "      <th>electrica</th>\n",
       "      <th>...</th>\n",
       "      <th>CAT 798-AC</th>\n",
       "      <th>KOM-CHQ</th>\n",
       "      <th>KOM.960E5</th>\n",
       "      <th>Kom.930E-4</th>\n",
       "      <th>Kom.930E-4SE</th>\n",
       "      <th>Kom.930EN</th>\n",
       "      <th>Kom.930ER</th>\n",
       "      <th>Kom.930ER-MT</th>\n",
       "      <th>Kom.980E5</th>\n",
       "      <th>Komatsu AHS</th>\n",
       "    </tr>\n",
       "  </thead>\n",
       "  <tbody>\n",
       "    <tr>\n",
       "      <th>0</th>\n",
       "      <td>2022</td>\n",
       "      <td>1</td>\n",
       "      <td>1</td>\n",
       "      <td>A</td>\n",
       "      <td>E4</td>\n",
       "      <td>4230000.0</td>\n",
       "      <td>2909055.0</td>\n",
       "      <td>195378.0</td>\n",
       "      <td>215300.0</td>\n",
       "      <td>6378.0</td>\n",
       "      <td>...</td>\n",
       "      <td>0.0</td>\n",
       "      <td>0.0</td>\n",
       "      <td>24.0</td>\n",
       "      <td>96.0</td>\n",
       "      <td>395.0</td>\n",
       "      <td>96.0</td>\n",
       "      <td>240.0</td>\n",
       "      <td>0.0</td>\n",
       "      <td>132.0</td>\n",
       "      <td>24.0</td>\n",
       "    </tr>\n",
       "    <tr>\n",
       "      <th>1</th>\n",
       "      <td>2022</td>\n",
       "      <td>1</td>\n",
       "      <td>1</td>\n",
       "      <td>B</td>\n",
       "      <td>E2</td>\n",
       "      <td>4233600.0</td>\n",
       "      <td>2882182.0</td>\n",
       "      <td>233080.0</td>\n",
       "      <td>185576.0</td>\n",
       "      <td>16547.0</td>\n",
       "      <td>...</td>\n",
       "      <td>0.0</td>\n",
       "      <td>0.0</td>\n",
       "      <td>24.0</td>\n",
       "      <td>96.0</td>\n",
       "      <td>396.0</td>\n",
       "      <td>96.0</td>\n",
       "      <td>240.0</td>\n",
       "      <td>0.0</td>\n",
       "      <td>132.0</td>\n",
       "      <td>24.0</td>\n",
       "    </tr>\n",
       "    <tr>\n",
       "      <th>2</th>\n",
       "      <td>2022</td>\n",
       "      <td>1</td>\n",
       "      <td>2</td>\n",
       "      <td>A</td>\n",
       "      <td>E4</td>\n",
       "      <td>4226400.0</td>\n",
       "      <td>2749200.0</td>\n",
       "      <td>276555.0</td>\n",
       "      <td>168400.0</td>\n",
       "      <td>0.0</td>\n",
       "      <td>...</td>\n",
       "      <td>0.0</td>\n",
       "      <td>0.0</td>\n",
       "      <td>24.0</td>\n",
       "      <td>96.0</td>\n",
       "      <td>394.0</td>\n",
       "      <td>96.0</td>\n",
       "      <td>240.0</td>\n",
       "      <td>0.0</td>\n",
       "      <td>132.0</td>\n",
       "      <td>24.0</td>\n",
       "    </tr>\n",
       "    <tr>\n",
       "      <th>3</th>\n",
       "      <td>2022</td>\n",
       "      <td>1</td>\n",
       "      <td>2</td>\n",
       "      <td>B</td>\n",
       "      <td>E2</td>\n",
       "      <td>4230000.0</td>\n",
       "      <td>2838853.0</td>\n",
       "      <td>255450.0</td>\n",
       "      <td>161031.0</td>\n",
       "      <td>29273.0</td>\n",
       "      <td>...</td>\n",
       "      <td>0.0</td>\n",
       "      <td>0.0</td>\n",
       "      <td>24.0</td>\n",
       "      <td>95.0</td>\n",
       "      <td>396.0</td>\n",
       "      <td>96.0</td>\n",
       "      <td>240.0</td>\n",
       "      <td>0.0</td>\n",
       "      <td>132.0</td>\n",
       "      <td>24.0</td>\n",
       "    </tr>\n",
       "    <tr>\n",
       "      <th>4</th>\n",
       "      <td>2022</td>\n",
       "      <td>1</td>\n",
       "      <td>3</td>\n",
       "      <td>A</td>\n",
       "      <td>E4</td>\n",
       "      <td>4230000.0</td>\n",
       "      <td>2845762.0</td>\n",
       "      <td>255412.0</td>\n",
       "      <td>138690.0</td>\n",
       "      <td>505.0</td>\n",
       "      <td>...</td>\n",
       "      <td>0.0</td>\n",
       "      <td>0.0</td>\n",
       "      <td>24.0</td>\n",
       "      <td>96.0</td>\n",
       "      <td>395.0</td>\n",
       "      <td>96.0</td>\n",
       "      <td>240.0</td>\n",
       "      <td>0.0</td>\n",
       "      <td>132.0</td>\n",
       "      <td>24.0</td>\n",
       "    </tr>\n",
       "  </tbody>\n",
       "</table>\n",
       "<p>5 rows × 43 columns</p>\n",
       "</div>"
      ],
      "text/plain": [
       "   year  month  day shift crew      total   efectivo  mantencion  mecanica  \\\n",
       "0  2022      1    1     A   E4  4230000.0  2909055.0    195378.0  215300.0   \n",
       "1  2022      1    1     B   E2  4233600.0  2882182.0    233080.0  185576.0   \n",
       "2  2022      1    2     A   E4  4226400.0  2749200.0    276555.0  168400.0   \n",
       "3  2022      1    2     B   E2  4230000.0  2838853.0    255450.0  161031.0   \n",
       "4  2022      1    3     A   E4  4230000.0  2845762.0    255412.0  138690.0   \n",
       "\n",
       "   electrica  ...  CAT 798-AC  KOM-CHQ  KOM.960E5  Kom.930E-4  Kom.930E-4SE  \\\n",
       "0     6378.0  ...         0.0      0.0       24.0        96.0         395.0   \n",
       "1    16547.0  ...         0.0      0.0       24.0        96.0         396.0   \n",
       "2        0.0  ...         0.0      0.0       24.0        96.0         394.0   \n",
       "3    29273.0  ...         0.0      0.0       24.0        95.0         396.0   \n",
       "4      505.0  ...         0.0      0.0       24.0        96.0         395.0   \n",
       "\n",
       "   Kom.930EN  Kom.930ER  Kom.930ER-MT  Kom.980E5  Komatsu AHS  \n",
       "0       96.0      240.0           0.0      132.0         24.0  \n",
       "1       96.0      240.0           0.0      132.0         24.0  \n",
       "2       96.0      240.0           0.0      132.0         24.0  \n",
       "3       96.0      240.0           0.0      132.0         24.0  \n",
       "4       96.0      240.0           0.0      132.0         24.0  \n",
       "\n",
       "[5 rows x 43 columns]"
      ]
     },
     "execution_count": 4,
     "metadata": {},
     "output_type": "execute_result"
    }
   ],
   "source": [
    "# miramos el dataframe\n",
    "df.head()"
   ]
  },
  {
   "cell_type": "code",
   "execution_count": 5,
   "id": "972db570",
   "metadata": {},
   "outputs": [
    {
     "name": "stdout",
     "output_type": "stream",
     "text": [
      "<class 'pandas.core.frame.DataFrame'>\n",
      "RangeIndex: 1567 entries, 0 to 1566\n",
      "Data columns (total 43 columns):\n",
      " #   Column               Non-Null Count  Dtype  \n",
      "---  ------               --------------  -----  \n",
      " 0   year                 1567 non-null   int64  \n",
      " 1   month                1567 non-null   int64  \n",
      " 2   day                  1567 non-null   int64  \n",
      " 3   shift                1567 non-null   object \n",
      " 4   crew                 1567 non-null   object \n",
      " 5   total                1567 non-null   float64\n",
      " 6   efectivo             1567 non-null   float64\n",
      " 7   mantencion           1567 non-null   float64\n",
      " 8   mecanica             1567 non-null   float64\n",
      " 9   electrica            1567 non-null   float64\n",
      " 10  mant_excl            1567 non-null   float64\n",
      " 11  mec_excl             1567 non-null   float64\n",
      " 12  elec_excl            1567 non-null   float64\n",
      " 13  som_excl             1567 non-null   float64\n",
      " 14  demora               1567 non-null   float64\n",
      " 15  r_prog               1567 non-null   float64\n",
      " 16  r_noprg              1567 non-null   float64\n",
      " 17  waiting              1567 non-null   int64  \n",
      " 18  queued               1567 non-null   int64  \n",
      " 19  material_tonnage     1567 non-null   float64\n",
      " 20  payload              1567 non-null   float64\n",
      " 21  distance             1567 non-null   int64  \n",
      " 22  distance_down        1567 non-null   int64  \n",
      " 23  distance_down_level  1567 non-null   int64  \n",
      " 24  distance_up          1567 non-null   int64  \n",
      " 25  distance_up_level    1567 non-null   int64  \n",
      " 26  expected_time        1567 non-null   int64  \n",
      " 27  lift_down            1567 non-null   int64  \n",
      " 28  lift_down_level      1567 non-null   int64  \n",
      " 29  lift_up              1567 non-null   int64  \n",
      " 30  lift_up_level        1567 non-null   int64  \n",
      " 31  travel_time          1567 non-null   int64  \n",
      " 32  CAT 797-F            1567 non-null   float64\n",
      " 33  CAT 798-AC           1567 non-null   float64\n",
      " 34  KOM-CHQ              1567 non-null   float64\n",
      " 35  KOM.960E5            1567 non-null   float64\n",
      " 36  Kom.930E-4           1567 non-null   float64\n",
      " 37  Kom.930E-4SE         1567 non-null   float64\n",
      " 38  Kom.930EN            1567 non-null   float64\n",
      " 39  Kom.930ER            1567 non-null   float64\n",
      " 40  Kom.930ER-MT         1567 non-null   float64\n",
      " 41  Kom.980E5            1567 non-null   float64\n",
      " 42  Komatsu AHS          1567 non-null   float64\n",
      "dtypes: float64(25), int64(16), object(2)\n",
      "memory usage: 526.5+ KB\n"
     ]
    }
   ],
   "source": [
    "# información general df\n",
    "df.info()"
   ]
  },
  {
   "cell_type": "markdown",
   "id": "dc4de051",
   "metadata": {},
   "source": [
    "## **_2 Preparación del DataFrame_**"
   ]
  },
  {
   "cell_type": "code",
   "execution_count": 6,
   "id": "9d720b55",
   "metadata": {},
   "outputs": [
    {
     "name": "stdout",
     "output_type": "stream",
     "text": [
      "Desviación Estándar: 19936.05577427206\n",
      "Media: 142357.4639507874\n"
     ]
    }
   ],
   "source": [
    "# cálculamos la desviaicón estándar y la media de payload\n",
    "std_y = df['payload'].std()\n",
    "mean_y = df['payload'].mean()\n",
    "\n",
    "print('Desviación Estándar:',std_y)\n",
    "print('Media:',mean_y)"
   ]
  },
  {
   "cell_type": "code",
   "execution_count": 7,
   "id": "f810df52",
   "metadata": {},
   "outputs": [],
   "source": [
    "# creamos variable de tiempo provisoria\n",
    "df['time'] = pd.to_datetime(df[['year', 'month', 'day']])"
   ]
  },
  {
   "cell_type": "markdown",
   "id": "c265d3b6",
   "metadata": {},
   "source": [
    "## **_3 Gráficas de 'payload'_**"
   ]
  },
  {
   "cell_type": "code",
   "execution_count": 8,
   "id": "27c9a122",
   "metadata": {},
   "outputs": [
    {
     "data": {
      "image/png": "[encoded data removed]",
      "text/plain": [
       "<Figure size 1200x500 with 1 Axes>"
      ]
     },
     "metadata": {},
     "output_type": "display_data"
    }
   ],
   "source": [
    "# graficamos payload vs tiempo\n",
    "plt.figure(figsize=(12,5))\n",
    "\n",
    "# graficamos sólo para el 2024\n",
    "df_2024 = df[df['year'] == 2024]\n",
    "plt.plot(df_2024.time,df_2024['payload'], color='gray', label='Payload')\n",
    "\n",
    "# agregamos línea de la media\n",
    "plt.axhline(df_2024.payload.mean(), color='tomato', linestyle='--')\n",
    "\n",
    "\n",
    "# mejoramos la visualización\n",
    "#plt.title('Payload vs Tiempo')\n",
    "plt.xlabel('Tiempo', fontsize=10, fontweight='bold', color='dimgray')\n",
    "#plt.ylabel('Payload [ton]', fontsize=10, fontweight='bold', color='dimgray')\n",
    "plt.xticks(fontsize=10, color='dimgray')\n",
    "plt.yticks(fontsize=10, color='dimgray')\n",
    "sns.despine()\n",
    "\n",
    "# damos al eje y formato de miles\n",
    "plt.gca().yaxis.set_major_formatter(ticker.FuncFormatter(lambda x, _: '{:,.0f}'.format(x)))\n",
    "\n",
    "# damos formato a las fechas\n",
    "plt.gca().xaxis.set_major_locator(mdates.DayLocator(interval=10))\n",
    "plt.gca().xaxis.set_major_formatter(mdates.DateFormatter('%d-%m-%y'))\n",
    "\n",
    "plt.show()"
   ]
  },
  {
   "cell_type": "code",
   "execution_count": null,
   "id": "bd72726e",
   "metadata": {},
   "outputs": [],
   "source": []
  }
 ],
 "metadata": {
  "kernelspec": {
   "display_name": "tf2",
   "language": "python",
   "name": "python3"
  },
  "language_info": {
   "codemirror_mode": {
    "name": "ipython",
    "version": 3
   },
   "file_extension": ".py",
   "mimetype": "text/x-python",
   "name": "python",
   "nbconvert_exporter": "python",
   "pygments_lexer": "ipython3",
   "version": "3.10.13"
  }
 },
 "nbformat": 4,
 "nbformat_minor": 5
}
